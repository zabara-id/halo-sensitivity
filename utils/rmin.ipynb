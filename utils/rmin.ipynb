{
 "cells": [
  {
   "cell_type": "markdown",
   "metadata": {},
   "source": [
    "# Получение аналитической формулы для $r_{min}$ из МНК\n",
    "\n",
    "Вид линий уровня для графика $r_{min}(\\sigma_{pos}, \\sigma_{vel})$ поддатлкивает на мысль о том, что зависимость должна быть такой:\n",
    "$$\n",
    "r_{min} = \\sqrt[n]{\\alpha_1\\cdot\\sigma_{pos}^n+\\alpha_2\\cdot\\sigma_{vel}^n}\n",
    "$$\n",
    "\n",
    "Для нахождения коэффициентов $\\alpha = (\\alpha_1, \\alpha_2)$ воспользуемся формулой функционала для линейной регресии:\n",
    "$$\n",
    "J_2 = \\dfrac{1}{N}\\sum_{i=1}^n(r_{min}^n-\\alpha_1\\cdot\\sigma_{pos}^n-\\alpha_2\\cdot\\sigma_{vel}^n)^2 \\longrightarrow \\min_{\\alpha_1, \\alpha_2}\n",
    "$$\n",
    "\n",
    "Для такого функционала есть ответ. Если переписать его ядро в матричном виде, то по формуле Маркова-Гаусса:\n",
    "$$\n",
    "\\boxed{\\alpha^*=(A^TA)^{-1}A^Ty} = \\alpha^*(n)\n",
    "$$\n",
    "\n",
    "Данный ответ получается для фиксированных степеней $n$. Создадим функцию alpha_finder, которая будет вычислять нам $\\alpha^*(n)$ и некоторые параметры нормировки. При этом все вычисления производятся для нормированных $A$ и $y$:"
   ]
  },
  {
   "cell_type": "code",
   "execution_count": 2,
   "metadata": {
    "ExecuteTime": {
     "end_time": "2025-05-09T11:57:15.914599Z",
     "start_time": "2025-05-09T11:57:15.909475Z"
    }
   },
   "outputs": [],
   "source": [
    "import numpy as np\n",
    "import csv\n",
    "\n",
    "from matplotlib import pyplot as plt\n",
    "\n",
    "from libration_sense import *\n",
    "from daceypy import DA\n",
    "\n",
    "import matplotlib.pyplot as plt\n",
    "\n",
    "\"\"\"функция по формуле Маркова-Гаусса вычисляет оптимальное значение коэффициентов в МНК\n",
    "\n",
    "    Returns:\n",
    "        tuple: (alpha_star, rmin_max) - коэффициенты и параметр нормировки на единицу для восстановления размерной формулы\n",
    "    \"\"\"\n",
    "\n",
    "def alpha_finder(n: float, orbit_type: str,\n",
    "                 number_of_orbit: int,\n",
    "                 xf: DA,\n",
    "                 grid_density: int = 5) -> tuple:\n",
    "    # Создаем сетку значений\n",
    "    std_pos_values = np.linspace(0, km2du(8), grid_density)  # от 0 до 8 км\n",
    "    std_vel_values = np.linspace(0, kmS2vu(0.05e-3), grid_density)  # от 0 до 0.05 м / с \n",
    "\n",
    "    # Данные для нормировки\n",
    "    pos_max = np.max(std_pos_values)\n",
    "    vel_max = np.max(std_vel_values)\n",
    "\n",
    "    # Генерируем матрицу A и вектор y\n",
    "    N = grid_density**2\n",
    "    A = np.zeros((N, 2))\n",
    "    y = np.zeros(N)\n",
    "\n",
    "    # Заполняем нормированную матрицу A и вектор y\n",
    "    index = 0\n",
    "    for std_pos in std_pos_values:\n",
    "        for std_vel in std_vel_values:\n",
    "            A[index] = [std_pos / pos_max, std_vel / vel_max]\n",
    "            y[index] = get_maxdeviation_wo_integrate(orbit_type, number_of_orbit, xf, std_pos, std_vel)\n",
    "            index += 1\n",
    "\n",
    "    deviation_max = np.max(y)\n",
    "    \n",
    "    y_normed = y / deviation_max\n",
    "    y_powered = np.power(y_normed, n)\n",
    "    A_powered = np.power(A, n)\n",
    "    alpha_star = np.linalg.inv(A_powered.T @ A_powered) @ A_powered.T @ y_powered\n",
    "    \n",
    "    return alpha_star, deviation_max\n",
    "\n",
    "def alpha_finder_of_n(A_normed, y, n):\n",
    "    rmin_max = np.max(y)\n",
    "    y_normed = y / rmin_max\n",
    "    y_powered = np.power(y_normed, n)\n",
    "    A_powered = np.power(A_normed, n)\n",
    "    return np.linalg.inv(A_powered.T @ A_powered) @ A_powered.T @ y_powered, rmin_max"
   ]
  },
  {
   "cell_type": "markdown",
   "metadata": {},
   "source": [
    "Теперь определим функцию, которая будет оптимизировать функционал по $n$, подбирая оптимальную степень. При этом коэффициенты $\\alpha$ уже посчитаны по формуле Маркова-Гаусса."
   ]
  },
  {
   "cell_type": "code",
   "execution_count": 3,
   "metadata": {
    "ExecuteTime": {
     "end_time": "2025-05-09T11:57:22.726558Z",
     "start_time": "2025-05-09T11:57:22.720296Z"
    }
   },
   "outputs": [],
   "source": [
    "from scipy.optimize import minimize\n",
    "\n",
    "\n",
    "def n_finder(orbit_type: str,\n",
    "             number_of_orbit: int,\n",
    "             xfinal: DA,\n",
    "             grid_density: int = 5) -> float:\n",
    "    \"\"\"оптимизация функционала J2 по n\n",
    "\n",
    "    Args:\n",
    "        orbit (np.ndarray): [a, e, i, omega, Omega]\n",
    "        xfinal (DA): конечная точка в TBP\n",
    "        m (int, optional): размер (плотность) сетки значений навигационных неточностей\n",
    "\n",
    "    Returns:\n",
    "        float: степень в формуле для d\n",
    "    \"\"\"\n",
    "    std_pos_values = np.linspace(0, km2du(3), grid_density)  # от 0 до 8 км\n",
    "    std_vel_values = np.linspace(0, kmS2vu(0.03e-3), grid_density)  # от 0 до 0.05 м / с\n",
    "\n",
    "    # Генерируем матрицу A и вектор y\n",
    "    N = grid_density**2\n",
    "    A = np.zeros((N, 2))\n",
    "    y_du = np.zeros(N)\n",
    "\n",
    "\n",
    "    pos_max = np.max(std_pos_values)\n",
    "    vel_max = np.max(std_vel_values)\n",
    "\n",
    "    # Заполняем A и y\n",
    "    index = 0\n",
    "    for std_pos in std_pos_values:\n",
    "        for std_vel in std_vel_values:\n",
    "            A[index] = [std_pos / pos_max, std_vel / vel_max]\n",
    "            y_du[index] = get_maxdeviation_wo_integrate(orbit_type, number_of_orbit, xfinal, std_pos, std_vel, amount_of_points=15000)\n",
    "            index += 1\n",
    "        print('col done')\n",
    "\n",
    "    # print(\"Массив данных заполнен\")\n",
    "\n",
    "    y_normed = y_du / np.max(y_du)\n",
    "    A_normed_du_and_vu = A\n",
    "\n",
    "    def loss(n):\n",
    "        y_powered = np.power(y_normed, n)\n",
    "        A_powered = np.power(A, n)\n",
    "        alpha_star = np.linalg.inv(A_powered.T @ A_powered) @ A_powered.T @ y_powered\n",
    "        core = np.power(y_powered - np.dot(A_powered, alpha_star), 2)\n",
    "        return np.sum(core) / np.shape(y_powered)[0]\n",
    "\n",
    "    _x = np.linspace(0.0001, 5, 200)\n",
    "    plt.plot(_x, [loss(x) for x in _x])\n",
    "    plt.show()\n",
    "\n",
    "    # Ограничения на n\n",
    "    bounds = [(0.000001, None)]\n",
    "\n",
    "    # Начальное приближение\n",
    "    n_initial = 2.1\n",
    "\n",
    "    # Метод сопряжённых направлений\n",
    "    n_opt = minimize(loss, n_initial, method='Powell', bounds=bounds)\n",
    "\n",
    "    return n_opt.x[0], A_normed_du_and_vu, y_du"
   ]
  },
  {
   "cell_type": "markdown",
   "metadata": {},
   "source": [
    "Теперь продемонстрируем это на конкретном примере:"
   ]
  },
  {
   "cell_type": "code",
   "execution_count": 4,
   "metadata": {},
   "outputs": [],
   "source": [
    "# import csv\n",
    "# # Путь к CSV-файлу\n",
    "# csv_file = 'koefficients_data.csv'"
   ]
  },
  {
   "cell_type": "code",
   "execution_count": 5,
   "metadata": {},
   "outputs": [],
   "source": [
    "# with open(csv_file, mode='w', newline='') as file:\n",
    "#     writer = csv.writer(file)\n",
    "#     writer.writerow(['Orbit Number', 'z0', 'Alpha1', 'Alpha2', 'Deviation Max'])"
   ]
  },
  {
   "cell_type": "code",
   "execution_count": 6,
   "metadata": {},
   "outputs": [],
   "source": [
    "# for i in range(193, 252):\n",
    "#     x0, z0, vy0, T, JACOBI, MAX_MUL = _initial_state_parser(\"L1\", i)\n",
    "#     xfinal = xf_finder(\"L1\", i)\n",
    "#     n, A_normed, y_du = n_finder(\"L1\", i, xfinal, grid_density=10)\n",
    "#     alpha, deviation_max = alpha_finder_of_n(A_normed, y_du, n)\n",
    "#\n",
    "#     alpha1, alpha2 = alpha\n",
    "#\n",
    "#     with open(csv_file, mode='a', newline='') as file:\n",
    "#         writer = csv.writer(file)\n",
    "#         writer.writerow([i, z0, alpha1, alpha2, deviation_max])"
   ]
  },
  {
   "cell_type": "code",
   "execution_count": 7,
   "metadata": {},
   "outputs": [],
   "source": [
    "# csv_file = 'koefficients_data_L2.csv'"
   ]
  },
  {
   "cell_type": "code",
   "execution_count": 8,
   "metadata": {},
   "outputs": [],
   "source": [
    "# with open(csv_file, mode='w', newline='') as file:\n",
    "#     writer = csv.writer(file)\n",
    "#     writer.writerow(['Orbit Number', 'T', 'Alpha1', 'Alpha2', 'Deviation Max'])"
   ]
  },
  {
   "cell_type": "code",
   "execution_count": 9,
   "metadata": {},
   "outputs": [],
   "source": [
    "# for i in range(340, 584):\n",
    "#     x0, z0, vy0, T, JACOBI, MAX_MUL = _initial_state_parser(\"L2\", i)\n",
    "#     xfinal = xf_finder(\"L2\", i)\n",
    "#     n, A_normed, y_du = n_finder(\"L2\", i, xfinal, grid_density=10)\n",
    "#     alpha, deviation_max = alpha_finder_of_n(A_normed, y_du, n)\n",
    "#\n",
    "#     alpha1, alpha2 = alpha\n",
    "#\n",
    "#     with open(csv_file, mode='a', newline='') as file:\n",
    "#         writer = csv.writer(file)\n",
    "#         writer.writerow([i, T, alpha1, alpha2, deviation_max])"
   ]
  },
  {
   "cell_type": "code",
   "execution_count": 10,
   "metadata": {
    "ExecuteTime": {
     "end_time": "2025-05-08T20:47:04.499629Z",
     "start_time": "2025-05-08T20:47:04.283429Z"
    }
   },
   "outputs": [
    {
     "name": "stdout",
     "output_type": "stream",
     "text": [
      "IS:  daceypy.array\n",
      "T:  <class 'numpy.float64'>\n"
     ]
    }
   ],
   "source": [
    "xfinal = get_xf('L1', 110)"
   ]
  },
  {
   "cell_type": "code",
   "execution_count": 11,
   "metadata": {
    "ExecuteTime": {
     "end_time": "2025-05-08T20:50:29.082456Z",
     "start_time": "2025-05-08T20:47:05.035491Z"
    }
   },
   "outputs": [
    {
     "ename": "KeyboardInterrupt",
     "evalue": "",
     "output_type": "error",
     "traceback": [
      "\u001b[31m---------------------------------------------------------------------------\u001b[39m",
      "\u001b[31mKeyboardInterrupt\u001b[39m                         Traceback (most recent call last)",
      "\u001b[36mCell\u001b[39m\u001b[36m \u001b[39m\u001b[32mIn[11]\u001b[39m\u001b[32m, line 3\u001b[39m\n\u001b[32m      1\u001b[39m \u001b[38;5;28;01mfrom\u001b[39;00m\u001b[38;5;250m \u001b[39m\u001b[34;01mIPython\u001b[39;00m\u001b[34;01m.\u001b[39;00m\u001b[34;01mdisplay\u001b[39;00m\u001b[38;5;250m \u001b[39m\u001b[38;5;28;01mimport\u001b[39;00m display, Math\n\u001b[32m----> \u001b[39m\u001b[32m3\u001b[39m n, A_normed, y_du = \u001b[43mn_finder\u001b[49m\u001b[43m(\u001b[49m\u001b[33;43m\"\u001b[39;49m\u001b[33;43mL1\u001b[39;49m\u001b[33;43m\"\u001b[39;49m\u001b[43m,\u001b[49m\u001b[43m \u001b[49m\u001b[32;43m110\u001b[39;49m\u001b[43m,\u001b[49m\u001b[43m \u001b[49m\u001b[43mxfinal\u001b[49m\u001b[43m,\u001b[49m\u001b[43m \u001b[49m\u001b[43mgrid_density\u001b[49m\u001b[43m=\u001b[49m\u001b[32;43m10\u001b[39;49m\u001b[43m)\u001b[49m\n\u001b[32m      4\u001b[39m \u001b[38;5;28mprint\u001b[39m(\u001b[33m'\u001b[39m\u001b[33mСтепень n = \u001b[39m\u001b[33m'\u001b[39m, n, sep=\u001b[33m'\u001b[39m\u001b[33m'\u001b[39m)\n\u001b[32m      5\u001b[39m alpha, deviation_max = alpha_finder_of_n(A_normed, y_du, n)\n",
      "\u001b[36mCell\u001b[39m\u001b[36m \u001b[39m\u001b[32mIn[3]\u001b[39m\u001b[32m, line 35\u001b[39m, in \u001b[36mn_finder\u001b[39m\u001b[34m(orbit_type, number_of_orbit, xfinal, grid_density)\u001b[39m\n\u001b[32m     33\u001b[39m \u001b[38;5;28;01mfor\u001b[39;00m std_vel \u001b[38;5;129;01min\u001b[39;00m std_vel_values:\n\u001b[32m     34\u001b[39m     A[index] = [std_pos / pos_max, std_vel / vel_max]\n\u001b[32m---> \u001b[39m\u001b[32m35\u001b[39m     y_du[index] = \u001b[43mget_maxdeviation_wo_integrate\u001b[49m\u001b[43m(\u001b[49m\u001b[43morbit_type\u001b[49m\u001b[43m,\u001b[49m\u001b[43m \u001b[49m\u001b[43mnumber_of_orbit\u001b[49m\u001b[43m,\u001b[49m\u001b[43m \u001b[49m\u001b[43mxfinal\u001b[49m\u001b[43m,\u001b[49m\u001b[43m \u001b[49m\u001b[43mstd_pos\u001b[49m\u001b[43m,\u001b[49m\u001b[43m \u001b[49m\u001b[43mstd_vel\u001b[49m\u001b[43m,\u001b[49m\u001b[43m \u001b[49m\u001b[43mamount_of_points\u001b[49m\u001b[43m=\u001b[49m\u001b[32;43m15000\u001b[39;49m\u001b[43m)\u001b[49m\n\u001b[32m     36\u001b[39m     index += \u001b[32m1\u001b[39m\n\u001b[32m     37\u001b[39m \u001b[38;5;28mprint\u001b[39m(\u001b[33m'\u001b[39m\u001b[33mcol done\u001b[39m\u001b[33m'\u001b[39m)\n",
      "\u001b[36mFile \u001b[39m\u001b[32m~/VSCodeProjects/halo-sensitivity/utils/libration_sense.py:835\u001b[39m, in \u001b[36mget_maxdeviation_wo_integrate\u001b[39m\u001b[34m(orbit_type, number_of_orbit, xf, std_pos, std_vel, derorder, number_of_halo_point, amount_of_points)\u001b[39m\n\u001b[32m    832\u001b[39m x0_new = x0_cons + deltax0  \u001b[38;5;66;03m# отклонения от начального положения\u001b[39;00m\n\u001b[32m    834\u001b[39m \u001b[38;5;66;03m# Применение формулы Тейлора\u001b[39;00m\n\u001b[32m--> \u001b[39m\u001b[32m835\u001b[39m evaluated_results = np.array([\u001b[43mxf\u001b[49m\u001b[43m.\u001b[49m\u001b[43meval\u001b[49m\u001b[43m(\u001b[49m\u001b[43mdelta\u001b[49m\u001b[43m)\u001b[49m[:\u001b[32m3\u001b[39m] \u001b[38;5;28;01mfor\u001b[39;00m delta \u001b[38;5;129;01min\u001b[39;00m deltax0]) \u001b[38;5;66;03m# изменённые конечные положения объектов для возмущённых начальных условий\u001b[39;00m\n\u001b[32m    837\u001b[39m \u001b[38;5;66;03m# вычисление Евклидова расстояния от каждой точки в evaluated_results до x0_coords\u001b[39;00m\n\u001b[32m    838\u001b[39m distances = np.sqrt(np.sum((evaluated_results - x0_coords) ** \u001b[32m2\u001b[39m, axis=\u001b[32m1\u001b[39m))\n",
      "\u001b[36mFile \u001b[39m\u001b[32m~/VSCodeProjects/halo-sensitivity/.venv/lib/python3.13/site-packages/daceypy/_array.py:881\u001b[39m, in \u001b[36marray.eval\u001b[39m\u001b[34m(self, args)\u001b[39m\n\u001b[32m    876\u001b[39m \u001b[38;5;28;01mdef\u001b[39;00m\u001b[38;5;250m \u001b[39m\u001b[34meval\u001b[39m(\n\u001b[32m    877\u001b[39m     \u001b[38;5;28mself\u001b[39m,\n\u001b[32m    878\u001b[39m     args: Union[\n\u001b[32m    879\u001b[39m         List[\u001b[38;5;28mfloat\u001b[39m], List[daceypy.DA], NDArray[np.double], array],\n\u001b[32m    880\u001b[39m ) -> Union[List[\u001b[38;5;28mfloat\u001b[39m], List[daceypy.DA], NDArray[np.double], array]:\n\u001b[32m--> \u001b[39m\u001b[32m881\u001b[39m     \u001b[38;5;28;01mreturn\u001b[39;00m \u001b[38;5;28;43mself\u001b[39;49m\u001b[43m.\u001b[49m\u001b[43mcompile\u001b[49m\u001b[43m(\u001b[49m\u001b[43m)\u001b[49m.eval(args)\n",
      "\u001b[36mFile \u001b[39m\u001b[32m~/VSCodeProjects/halo-sensitivity/.venv/lib/python3.13/site-packages/daceypy/_array.py:798\u001b[39m, in \u001b[36marray.compile\u001b[39m\u001b[34m(self)\u001b[39m\n\u001b[32m    788\u001b[39m \u001b[38;5;28;01mdef\u001b[39;00m\u001b[38;5;250m \u001b[39m\u001b[34mcompile\u001b[39m(\u001b[38;5;28mself\u001b[39m) -> daceypy.compiledDA:\n\u001b[32m    789\u001b[39m \u001b[38;5;250m    \u001b[39m\u001b[33;03m\"\"\"\u001b[39;00m\n\u001b[32m    790\u001b[39m \u001b[33;03m    Compile vector of polynomials and create a compiledDA object.\u001b[39;00m\n\u001b[32m    791\u001b[39m \n\u001b[32m   (...)\u001b[39m\u001b[32m    796\u001b[39m \u001b[33;03m        `compiledDA AlgebraicVector<DA>::compile()`\u001b[39;00m\n\u001b[32m    797\u001b[39m \u001b[33;03m    \"\"\"\u001b[39;00m\n\u001b[32m--> \u001b[39m\u001b[32m798\u001b[39m     \u001b[38;5;28;01mreturn\u001b[39;00m \u001b[43mdaceypy\u001b[49m\u001b[43m.\u001b[49m\u001b[43mcompiledDA\u001b[49m\u001b[43m(\u001b[49m\u001b[38;5;28;43mself\u001b[39;49m\u001b[43m)\u001b[49m\n",
      "\u001b[36mFile \u001b[39m\u001b[32m~/VSCodeProjects/halo-sensitivity/.venv/lib/python3.13/site-packages/daceypy/_compiledDA.py:74\u001b[39m, in \u001b[36mcompiledDA.__init__\u001b[39m\u001b[34m(self, da)\u001b[39m\n\u001b[32m     71\u001b[39m core.EvalTree(da_array, dim, c_ac, c_terms, c_vars, c_ord)\n\u001b[32m     73\u001b[39m \u001b[38;5;28mself\u001b[39m.dim: \u001b[38;5;28mint\u001b[39m = dim\n\u001b[32m---> \u001b[39m\u001b[32m74\u001b[39m \u001b[38;5;28mself\u001b[39m.ac: Tuple[\u001b[38;5;28mfloat\u001b[39m] = \u001b[38;5;28;43mtuple\u001b[39;49m\u001b[43m(\u001b[49m\u001b[43mc_ac\u001b[49m\u001b[43m)\u001b[49m  \u001b[38;5;66;03m# type: ignore\u001b[39;00m\n\u001b[32m     75\u001b[39m \u001b[38;5;28mself\u001b[39m.terms: \u001b[38;5;28mint\u001b[39m = c_terms.value\n\u001b[32m     76\u001b[39m \u001b[38;5;28mself\u001b[39m.vars: \u001b[38;5;28mint\u001b[39m = c_vars.value\n",
      "\u001b[31mKeyboardInterrupt\u001b[39m: "
     ]
    }
   ],
   "source": [
    "from IPython.display import display, Math\n",
    "\n",
    "n, A_normed, y_du = n_finder(\"L1\", 110, xfinal, grid_density=10)\n",
    "print('Степень n = ', n, sep='')\n",
    "alpha, deviation_max = alpha_finder_of_n(A_normed, y_du, n)"
   ]
  },
  {
   "cell_type": "code",
   "execution_count": null,
   "metadata": {
    "ExecuteTime": {
     "end_time": "2025-05-09T11:45:57.718432Z",
     "start_time": "2025-05-09T11:45:55.576662Z"
    }
   },
   "outputs": [
    {
     "name": "stdout",
     "output_type": "stream",
     "text": [
      "Пробная точка: [sigma_pos = 1.0 км, sigma_vel = 0.015000000000000001 м/с]\n",
      "Крайние значения данных: [sigma_pos_max = 3 км, sigma_vel_max = 0.03 м/с]\n",
      "Точное значение:  2989.542285483706\n",
      "Значение, вычисленное по аппроксимирующей формуле:  2645.219535528266\n"
     ]
    },
    {
     "data": {
      "text/latex": [
       "$\\displaystyle d = \\sqrt[1.7289]{0.34\\cdot \\sigma_{pos}^{1.7289} + 0.64\\cdot \\sigma_{vel}^{1.7289}}\\cdot5996.03 \\ [km]$"
      ],
      "text/plain": [
       "<IPython.core.display.Math object>"
      ]
     },
     "metadata": {},
     "output_type": "display_data"
    }
   ],
   "source": [
    "def deviation_analytic(n, alpha, std_pos_normed, std_vel_normed):\n",
    "    return np.power(alpha[0]*np.power(std_pos_normed, n) + alpha[1]*np.power(std_vel_normed, n), 1/n)\n",
    "\n",
    "formula = f\"d = \\\\sqrt[{np.around(n, 4)}]{{{np.around(alpha[0], 2)}\\\\cdot \\\\sigma_{{pos}}^{{{np.around(n, 4)}}} + {np.around(alpha[1], 2)}\\\\cdot \\\\sigma_{{vel}}^{{{np.around(n, 4)}}}}}\\\\cdot{np.around(du2km(deviation_max), 3)} \\\\ [km]\"\n",
    "\n",
    "std_pos, std_vel = km2du(0.98), kmS2vu(0.015e-3)\n",
    "std_pos_max, std_vel_max = km2du(3), kmS2vu(0.03e-3)\n",
    "\n",
    "print(f\"Пробная точка: [sigma_pos = {np.around(du2km(std_pos), 1)} км, sigma_vel = {vu2kms(std_vel)*1000} м/с]\")\n",
    "print(f\"Крайние значения данных: [sigma_pos_max = {3} км, sigma_vel_max = {0.03} м/с]\")\n",
    "print('Точное значение: ', du2km(get_maxdeviation_wo_integrate('L1', 110, xfinal, std_pos, std_vel, amount_of_points=15000)))\n",
    "print('Значение, вычисленное по аппроксимирующей формуле: ', deviation_analytic(n, alpha, std_pos/std_pos_max, std_vel/std_vel_max) * du2km(deviation_max))\n",
    "display(Math(formula))"
   ]
  },
  {
   "cell_type": "code",
   "execution_count": null,
   "metadata": {},
   "outputs": [],
   "source": []
  }
 ],
 "metadata": {
  "kernelspec": {
   "display_name": "halo-sensitivity (3.13.7)",
   "language": "python",
   "name": "python3"
  },
  "language_info": {
   "codemirror_mode": {
    "name": "ipython",
    "version": 3
   },
   "file_extension": ".py",
   "mimetype": "text/x-python",
   "name": "python",
   "nbconvert_exporter": "python",
   "pygments_lexer": "ipython3",
   "version": "3.13.7"
  }
 },
 "nbformat": 4,
 "nbformat_minor": 2
}
