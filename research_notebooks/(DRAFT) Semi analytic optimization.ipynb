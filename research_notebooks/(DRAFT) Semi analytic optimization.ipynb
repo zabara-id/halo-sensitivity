{
 "cells": [
  {
   "metadata": {},
   "cell_type": "markdown",
   "source": "# Полуаналитическое определение максимального отклонения на основе спектрального разложения матрицы монодромии",
   "id": "e1459aa1a2f9d2fa"
  },
  {
   "metadata": {},
   "cell_type": "markdown",
   "source": "Ниже приведена методика определения максимального отклонения с помощью максимизации квадратичной формы с простыми ограничениями методом `L-BFGS-B`:",
   "id": "4ba8f6fb292c16f1"
  },
  {
   "metadata": {
    "ExecuteTime": {
     "end_time": "2025-04-29T09:42:23.241697Z",
     "start_time": "2025-04-29T09:42:22.957633Z"
    }
   },
   "cell_type": "code",
   "source": [
    "from utils.libration_sense import *\n",
    "from scipy.optimize import minimize"
   ],
   "id": "e8f023934173d2c3",
   "outputs": [],
   "execution_count": 1
  },
  {
   "metadata": {
    "ExecuteTime": {
     "end_time": "2025-04-29T09:42:23.600425Z",
     "start_time": "2025-04-29T09:42:23.250480Z"
    }
   },
   "cell_type": "code",
   "source": [
    "orbit_type = 'L1'\n",
    "orbit_num = 192\n",
    "\n",
    "# матрица монодромии\n",
    "M = get_monodromy_matrix(orbit_type, orbit_num)\n",
    "\n",
    "# начальная точка для интегратора\n",
    "x0, z0, vy0, T, _, __ = initial_state_parser(orbit_type, orbit_num)\n",
    "initial_state_da = array.identity(6)\n",
    "initial_state_da[0] += x0  # x\n",
    "initial_state_da[2] += z0  # z\n",
    "initial_state_da[4] += vy0  # v_y\n",
    "initial_state_cons = initial_state_da.cons()  # положения и скорости центральной точки\n",
    "\n",
    "# генерируем положения вокруг initial_state из нормального распределения с клиппингом\n",
    "std_pos = km2du(8)  # 8 км\n",
    "std_vel = kmS2vu(0.05e-3)  # 0.05 м/c\n",
    "std_devs = np.array([std_pos] * 3 + [std_vel] * 3)"
   ],
   "id": "initial_id",
   "outputs": [],
   "execution_count": 2
  },
  {
   "metadata": {
    "ExecuteTime": {
     "end_time": "2025-04-29T09:42:23.659951Z",
     "start_time": "2025-04-29T09:42:23.657981Z"
    }
   },
   "cell_type": "code",
   "source": [
    "Mrr = M[:3, :3]\n",
    "Mrv = M[:3, 3:]\n",
    "A = np.hstack([Mrr, Mrv])\n",
    "alpha = 1e-8\n",
    "ATA = A.T @ A\n",
    "\n",
    "def f(x, Q):\n",
    "    result = -np.dot(x, Q @ x)\n",
    "    return result\n",
    "\n",
    "def nabla_f(x, Q):\n",
    "    result = -2 * Q @ x\n",
    "    return result\n",
    "\n",
    "bounds = [(-3*std_pos, 3*std_pos)] * 3 + [(-3*std_vel, 3*std_vel)] * 3"
   ],
   "id": "cf861c97db7e6252",
   "outputs": [],
   "execution_count": 3
  },
  {
   "metadata": {
    "ExecuteTime": {
     "end_time": "2025-04-29T09:42:23.672817Z",
     "start_time": "2025-04-29T09:42:23.667234Z"
    }
   },
   "cell_type": "code",
   "source": [
    "np.random.seed(42)\n",
    "ig = np.random.normal(0, std_devs)\n",
    "res = minimize(f, ig, args=(ATA,), jac=nabla_f, bounds=bounds, method='L-BFGS-B', options={'disp': True})"
   ],
   "id": "232d2190feeb41ca",
   "outputs": [
    {
     "name": "stdout",
     "output_type": "stream",
     "text": [
      "RUNNING THE L-BFGS-B CODE\n",
      "\n",
      "           * * *\n",
      "\n",
      "Machine precision = 2.220D-16\n",
      " N =            6     M =           10\n",
      "\n",
      "At X0         0 variables are exactly at the bounds\n",
      "\n",
      "At iterate    0    f= -6.80722D-08    |proj g|=  1.57834D-04\n",
      "\n",
      "At iterate    1    f= -1.94892D-06    |proj g|=  4.33921D-05\n",
      "  ys=-2.590E-06  -gs= 5.857E-07 BFGS update SKIPPED\n",
      "\n",
      "At iterate    2    f= -1.96596D-06    |proj g|=  0.00000D+00\n",
      "\n",
      "           * * *\n",
      "\n",
      "Tit   = total number of iterations\n",
      "Tnf   = total number of function evaluations\n",
      "Tnint = total number of segments explored during Cauchy searches\n",
      "Skip  = number of BFGS updates skipped\n",
      "Nact  = number of active bounds at final generalized Cauchy point\n",
      "Projg = norm of the final projected gradient\n",
      "F     = final function value\n",
      "\n",
      "           * * *\n",
      "\n",
      "   N    Tit     Tnf  Tnint  Skip  Nact     Projg        F\n",
      "    6      2      3      8     1     6   0.000D+00  -1.966D-06\n",
      "  F =  -1.9659612593950037E-006\n",
      "\n",
      "CONVERGENCE: NORM_OF_PROJECTED_GRADIENT_<=_PGTOL            \n"
     ]
    }
   ],
   "execution_count": 4
  },
  {
   "metadata": {
    "ExecuteTime": {
     "end_time": "2025-04-29T09:42:24.064885Z",
     "start_time": "2025-04-29T09:42:23.730137Z"
    }
   },
   "cell_type": "code",
   "source": [
    "# Вектор НУ, дающий максимальное отклонение:\n",
    "opt_initial_state_da = array.identity(6)\n",
    "opt_initial_state_da[0] += res.x[0] + x0    # x\n",
    "opt_initial_state_da[1] += res.x[1]         # y\n",
    "opt_initial_state_da[2] += res.x[2] + z0    # z\n",
    "opt_initial_state_da[3] += res.x[3]         # vx\n",
    "opt_initial_state_da[4] += res.x[4] + vy0   # vy\n",
    "opt_initial_state_da[5] += res.x[5]         # vz\n",
    "\n",
    "with DA.cache_manager():\n",
    "    r_f = RK78(opt_initial_state_da, 0.0, T, CR3BP).cons()[:3]\n",
    "\n",
    "r_0 = initial_state_cons[:3]\n",
    "\n",
    "print(\"Максимальное отклонение через виток, L-BFGS-B: \", du2km(np.linalg.norm(r_f - r_0)))"
   ],
   "id": "6076772cf4147e1",
   "outputs": [
    {
     "name": "stdout",
     "output_type": "stream",
     "text": [
      "Максимальное отклонение через виток, L-BFGS-B:  538.5548242935496\n"
     ]
    }
   ],
   "execution_count": 5
  },
  {
   "metadata": {},
   "cell_type": "markdown",
   "source": "У нас есть матрица `ATA`, находим её спектральное разложение:",
   "id": "207dffaaf632d27a"
  },
  {
   "metadata": {
    "ExecuteTime": {
     "end_time": "2025-04-29T09:42:24.079430Z",
     "start_time": "2025-04-29T09:42:24.077480Z"
    }
   },
   "cell_type": "code",
   "source": [
    "eigvals, S = np.linalg.eigh(ATA)\n",
    "print(eigvals)\n",
    "D = np.diag(eigvals)"
   ],
   "id": "1da38b13b11160b4",
   "outputs": [
    {
     "name": "stdout",
     "output_type": "stream",
     "text": [
      "[-7.19635335e-16 -1.76869825e-16  5.48311425e-15  2.61570948e-01\n",
      "  3.49607378e+01  6.90156994e+01]\n"
     ]
    }
   ],
   "execution_count": 6
  },
  {
   "metadata": {},
   "cell_type": "markdown",
   "source": [
    "Это вырожденная матрица ранга 3. Формула перехода к диагональному базису:\n",
    "$$\n",
    "x=Sy\n",
    "$$\n",
    "\n",
    "$$\n",
    "y=S^Tx\n",
    "$$\n",
    "\n",
    "Квадратичная форма $x^T A^TA x$ перейдёт в $y^T D y$, а ограничения $x\\in E$ в $y \\in S^T E$. Если $E-$прямоугольник фазового пространства, то после ортогонального преобразования он поменяет ориентацию, сохранив свой объём. Отсюда мы перейдём к оптимизационной задаче:\n",
    "$$\n",
    "\\begin{cases}\n",
    "y^T D y \\longrightarrow \\displaystyle{\\max_y},\\\\\n",
    "y \\in S^T E,\\\\\n",
    "\\end{cases}\n",
    "$$"
   ],
   "id": "1a18c2e458725477"
  },
  {
   "metadata": {},
   "cell_type": "markdown",
   "source": [
    "Старые ограничения `bounds = [(-3*std_pos, 3*std_pos)] * 3 + [(-3*std_vel, 3*std_vel)] * 3` математически можно выразить как\n",
    "$$\n",
    "E = \\bigl[-3\\sigma_{\\text{pos}},\\,3\\sigma_{\\text{pos}}\\bigr]^3\n",
    "    \\times\n",
    "    \\bigl[-3\\sigma_{\\text{vel}},\\,3\\sigma_{\\text{vel}}\\bigr]^3.\n",
    "$$\n",
    "Новое же множество выглядит так:\n",
    "$$\n",
    "S^T E \\;=\\;\\bigl\\{\\,y\\in\\mathbb{R}^6 \\;\\bigm|\\;y = S^T x,\\;x\\in E\\bigr\\}.\n",
    "$$"
   ],
   "id": "44bf3828a8151c49"
  },
  {
   "metadata": {},
   "cell_type": "markdown",
   "source": [
    "Учитывая только ненулевые компоненты $D$, целевой функционал может быть переписан как\n",
    "$$\n",
    "y_1^2d_1^2 + y_2^2d_2^2 + y_3^2d_3^2 \\longrightarrow \\max_{y_1, y_2, y_3}\n",
    "$$\n",
    "\n",
    "От остальных компонент $y_i$, соответствующих нулевым компонентам $d_i$ матрицы $D$, ответ не зависит."
   ],
   "id": "20f4af56ddc657d2"
  },
  {
   "metadata": {
    "ExecuteTime": {
     "end_time": "2025-04-29T09:42:24.107333Z",
     "start_time": "2025-04-29T09:42:24.104089Z"
    }
   },
   "cell_type": "code",
   "source": [
    "L = np.array([-3*std_pos]*3 + [-3*std_vel]*3)  # shape (6,)\n",
    "U = np.array([ 3*std_pos]*3 + [ 3*std_vel]*3)  # shape (6,)\n",
    "\n",
    "# находим индексы ненулевых d_j\n",
    "J = np.where(np.abs(eigvals) > 1e-14)[0]\n",
    "\n",
    "# для каждого j∈J считаем границы y_j\n",
    "y_bounds = {}\n",
    "for j in J:\n",
    "    v = S[:, j]  # вектор S_{ij}, i=1..6\n",
    "    # низ: суммируем S_ij * L_i если S_ij≥0, иначе S_ij*U_i\n",
    "    y_min = np.sum(np.where(v >= 0, v * L, v * U))\n",
    "    # верх: суммируем S_ij * U_i если S_ij≥0, иначе S_ij*L_i\n",
    "    y_max = np.sum(np.where(v >= 0, v * U, v * L))\n",
    "    y_bounds[j] = (y_min, y_max)\n",
    "\n",
    "# теперь y_bounds — словарь вида {j:(y_j_min, y_j_max), ...}\n",
    "print(\"Активные индексы J:\", J)\n",
    "print(\"Границы для y_j:\", y_bounds)"
   ],
   "id": "72fc129562e764b4",
   "outputs": [
    {
     "name": "stdout",
     "output_type": "stream",
     "text": [
      "Активные индексы J: [3 4 5]\n",
      "Границы для y_j: {np.int64(3): (np.float64(-0.00024819612052096046), np.float64(0.00024819612052096046)), np.int64(4): (np.float64(-0.00018324391043902274), np.float64(0.00018324391043902274)), np.int64(5): (np.float64(-0.00016579028416957844), np.float64(0.00016579028416957844))}\n"
     ]
    }
   ],
   "execution_count": 7
  },
  {
   "metadata": {
    "ExecuteTime": {
     "end_time": "2025-04-29T09:42:24.125926Z",
     "start_time": "2025-04-29T09:42:24.124100Z"
    }
   },
   "cell_type": "code",
   "source": [
    "z_bounds = {}\n",
    "for j in J:\n",
    "    d = eigvals[j]\n",
    "    y_min, y_max = y_bounds[j]\n",
    "    # получаем два конца отрезка в z\n",
    "    z1 = d * y_min\n",
    "    z2 = d * y_max\n",
    "    # правильный нижний и верхний\n",
    "    z_bounds[j] = (min(z1, z2), max(z1, z2))\n",
    "\n",
    "print(\"Bounds for z_j:\", z_bounds)"
   ],
   "id": "ccb03ae61eb87d7f",
   "outputs": [
    {
     "name": "stdout",
     "output_type": "stream",
     "text": [
      "Bounds for z_j: {np.int64(3): (np.float64(-6.492089458435178e-05), np.float64(6.492089458435178e-05)), np.int64(4): (np.float64(-0.0064063423083473995), np.float64(0.0064063423083473995)), np.int64(5): (np.float64(-0.011442132416470137), np.float64(0.011442132416470137))}\n"
     ]
    }
   ],
   "execution_count": 8
  },
  {
   "metadata": {
    "ExecuteTime": {
     "end_time": "2025-04-29T09:42:24.149265Z",
     "start_time": "2025-04-29T09:42:24.147013Z"
    }
   },
   "cell_type": "code",
   "source": [
    "import itertools\n",
    "\n",
    "# перечисляем для каждого j в J кортеж (min,max)\n",
    "intervals_y = [y_bounds[j] for j in J]  # [(y3_min,y3_max), (y4_min,y4_max), (y5_min,y5_max)]\n",
    "\n",
    "# получаем 2^3 = 8 комбинаций концов\n",
    "corners_y = list(itertools.product(*intervals_y))\n",
    "# corners — список из 8 кортежей вида (y3_corner, y4_corner, y5_corner)\n",
    "\n",
    "# если вам нужно собрать их в полном 6-мерном y-векторе,\n",
    "# можно «заполнить» остальные позиции нулями (или чем угодно):\n",
    "vertices_y = []\n",
    "for corner in corners_y:\n",
    "    y_vec = np.zeros(6)\n",
    "    for idx, val in zip(J, corner):\n",
    "        y_vec[idx] = val\n",
    "    vertices_y.append(y_vec)\n",
    "\n",
    "vertices_z = np.array(vertices_y)\n",
    "print(len(corners_y))"
   ],
   "id": "97660187b1e5b9cc",
   "outputs": [
    {
     "name": "stdout",
     "output_type": "stream",
     "text": [
      "8\n"
     ]
    }
   ],
   "execution_count": 9
  },
  {
   "metadata": {
    "ExecuteTime": {
     "end_time": "2025-04-29T09:42:24.172215Z",
     "start_time": "2025-04-29T09:42:24.169683Z"
    }
   },
   "cell_type": "code",
   "source": [
    "# перечисляем для каждого j в J кортеж (min,max)\n",
    "intervals_z = [z_bounds[j] for j in J]  # [(y3_min,y3_max), (y4_min,y4_max), (y5_min,y5_max)]\n",
    "\n",
    "# получаем 2^3 = 8 комбинаций концов\n",
    "corners_z = list(itertools.product(*intervals_z))\n",
    "# corners — список из 8 кортежей вида (y3_corner, y4_corner, y5_corner)\n",
    "\n",
    "# если вам нужно собрать их в полном 6-мерном y-векторе,\n",
    "# можно «заполнить» остальные позиции нулями (или чем угодно):\n",
    "vertices_z = []\n",
    "for corner in corners_z:\n",
    "    y_vec = np.zeros(6)\n",
    "    for idx, val in zip(J, corner):\n",
    "        y_vec[idx] = val\n",
    "    vertices_z.append(y_vec)\n",
    "\n",
    "vertices_z = np.array(vertices_z)\n",
    "print(len(corners_z))"
   ],
   "id": "dbb2aa42b25a55a7",
   "outputs": [
    {
     "name": "stdout",
     "output_type": "stream",
     "text": [
      "8\n"
     ]
    }
   ],
   "execution_count": 10
  },
  {
   "metadata": {
    "ExecuteTime": {
     "end_time": "2025-04-29T09:42:24.196404Z",
     "start_time": "2025-04-29T09:42:24.194780Z"
    }
   },
   "cell_type": "code",
   "source": [
    "for corner in corners_z:\n",
    "    z_vec = np.array(corner)\n",
    "    print(z_vec.T @ z_vec)"
   ],
   "id": "c2d771396e99f750",
   "outputs": [
    {
     "name": "stdout",
     "output_type": "stream",
     "text": [
      "0.00017196783073031223\n",
      "0.00017196783073031223\n",
      "0.00017196783073031223\n",
      "0.00017196783073031223\n",
      "0.00017196783073031223\n",
      "0.00017196783073031223\n",
      "0.00017196783073031223\n",
      "0.00017196783073031223\n"
     ]
    }
   ],
   "execution_count": 11
  },
  {
   "metadata": {
    "ExecuteTime": {
     "end_time": "2025-04-29T09:42:24.219467Z",
     "start_time": "2025-04-29T09:42:24.217890Z"
    }
   },
   "cell_type": "code",
   "source": [
    "for corner in corners_y:\n",
    "    y_vec = np.array(corner)\n",
    "    print(y_vec.T @ y_vec)"
   ],
   "id": "5d44b2518f238d",
   "outputs": [
    {
     "name": "stdout",
     "output_type": "stream",
     "text": [
      "1.226660632796693e-07\n",
      "1.226660632796693e-07\n",
      "1.226660632796693e-07\n",
      "1.226660632796693e-07\n",
      "1.226660632796693e-07\n",
      "1.226660632796693e-07\n",
      "1.226660632796693e-07\n",
      "1.226660632796693e-07\n"
     ]
    }
   ],
   "execution_count": 12
  },
  {
   "metadata": {
    "ExecuteTime": {
     "end_time": "2025-04-29T09:42:24.242599Z",
     "start_time": "2025-04-29T09:42:24.240765Z"
    }
   },
   "cell_type": "code",
   "source": [
    "z_bounds_standart = [value for value in z_bounds.values()]\n",
    "print(z_bounds_standart)"
   ],
   "id": "7e70e0d695db2a77",
   "outputs": [
    {
     "name": "stdout",
     "output_type": "stream",
     "text": [
      "[(np.float64(-6.492089458435178e-05), np.float64(6.492089458435178e-05)), (np.float64(-0.0064063423083473995), np.float64(0.0064063423083473995)), (np.float64(-0.011442132416470137), np.float64(0.011442132416470137))]\n"
     ]
    }
   ],
   "execution_count": 13
  },
  {
   "metadata": {
    "ExecuteTime": {
     "end_time": "2025-04-29T09:42:24.264659Z",
     "start_time": "2025-04-29T09:42:24.262792Z"
    }
   },
   "cell_type": "code",
   "source": [
    "from itertools import product\n",
    "\n",
    "# строим все комбинации (cartesian product)\n",
    "vertices = np.array(list(product(*z_bounds_standart)))\n",
    "\n",
    "print(vertices)\n",
    "print(vertices.shape)"
   ],
   "id": "ddef936a5e25288f",
   "outputs": [
    {
     "name": "stdout",
     "output_type": "stream",
     "text": [
      "[[-6.49208946e-05 -6.40634231e-03 -1.14421324e-02]\n",
      " [-6.49208946e-05 -6.40634231e-03  1.14421324e-02]\n",
      " [-6.49208946e-05  6.40634231e-03 -1.14421324e-02]\n",
      " [-6.49208946e-05  6.40634231e-03  1.14421324e-02]\n",
      " [ 6.49208946e-05 -6.40634231e-03 -1.14421324e-02]\n",
      " [ 6.49208946e-05 -6.40634231e-03  1.14421324e-02]\n",
      " [ 6.49208946e-05  6.40634231e-03 -1.14421324e-02]\n",
      " [ 6.49208946e-05  6.40634231e-03  1.14421324e-02]]\n",
      "(8, 3)\n"
     ]
    }
   ],
   "execution_count": 14
  },
  {
   "metadata": {
    "ExecuteTime": {
     "end_time": "2025-04-29T09:42:24.287085Z",
     "start_time": "2025-04-29T09:42:24.285499Z"
    }
   },
   "cell_type": "code",
   "source": [
    "for vertice in vertices:\n",
    "    print(vertice.T @ vertice)"
   ],
   "id": "88e67c2c0e18d8a5",
   "outputs": [
    {
     "name": "stdout",
     "output_type": "stream",
     "text": [
      "0.00017196783073031223\n",
      "0.00017196783073031223\n",
      "0.00017196783073031223\n",
      "0.00017196783073031223\n",
      "0.00017196783073031223\n",
      "0.00017196783073031223\n",
      "0.00017196783073031223\n",
      "0.00017196783073031223\n"
     ]
    }
   ],
   "execution_count": 15
  },
  {
   "metadata": {
    "ExecuteTime": {
     "end_time": "2025-04-29T09:42:24.311665Z",
     "start_time": "2025-04-29T09:42:24.309199Z"
    }
   },
   "cell_type": "code",
   "source": [
    "ig = np.random.randn(vertices.shape[1])\n",
    "res = minimize(f, ig, args=(np.eye(vertices.shape[1]),), jac=nabla_f, bounds=z_bounds_standart, method='L-BFGS-B', options={'disp': True})"
   ],
   "id": "4817c8079949ebc5",
   "outputs": [
    {
     "name": "stdout",
     "output_type": "stream",
     "text": [
      "RUNNING THE L-BFGS-B CODE\n",
      "\n",
      "           * * *\n",
      "\n",
      "Machine precision = 2.220D-16\n",
      " N =            3     M =           10\n",
      "\n",
      "At X0         3 variables are exactly at the bounds\n",
      "\n",
      "At iterate    0    f= -1.71968D-04    |proj g|=  0.00000D+00\n",
      "\n",
      "           * * *\n",
      "\n",
      "Tit   = total number of iterations\n",
      "Tnf   = total number of function evaluations\n",
      "Tnint = total number of segments explored during Cauchy searches\n",
      "Skip  = number of BFGS updates skipped\n",
      "Nact  = number of active bounds at final generalized Cauchy point\n",
      "Projg = norm of the final projected gradient\n",
      "F     = final function value\n",
      "\n",
      "           * * *\n",
      "\n",
      "   N    Tit     Tnf  Tnint  Skip  Nact     Projg        F\n",
      "    3      0      1      0     0     0   0.000D+00  -1.720D-04\n",
      "  F =  -1.7196783073031223E-004\n",
      "\n",
      "CONVERGENCE: NORM_OF_PROJECTED_GRADIENT_<=_PGTOL            \n"
     ]
    }
   ],
   "execution_count": 16
  },
  {
   "metadata": {
    "ExecuteTime": {
     "end_time": "2025-04-29T09:42:24.335435Z",
     "start_time": "2025-04-29T09:42:24.332430Z"
    }
   },
   "cell_type": "code",
   "source": " res.x",
   "id": "f3e65caf5314c7b8",
   "outputs": [
    {
     "data": {
      "text/plain": [
       "array([ 6.49208946e-05,  6.40634231e-03, -1.14421324e-02])"
      ]
     },
     "execution_count": 17,
     "metadata": {},
     "output_type": "execute_result"
    }
   ],
   "execution_count": 17
  },
  {
   "metadata": {
    "ExecuteTime": {
     "end_time": "2025-04-29T09:42:24.358476Z",
     "start_time": "2025-04-29T09:42:24.356039Z"
    }
   },
   "cell_type": "code",
   "source": "res",
   "id": "ed1ac3c5771e8dcd",
   "outputs": [
    {
     "data": {
      "text/plain": [
       "  message: CONVERGENCE: NORM_OF_PROJECTED_GRADIENT_<=_PGTOL\n",
       "  success: True\n",
       "   status: 0\n",
       "      fun: -0.00017196783073031223\n",
       "        x: [ 6.492e-05  6.406e-03 -1.144e-02]\n",
       "      nit: 0\n",
       "      jac: [-1.298e-04 -1.281e-02  2.288e-02]\n",
       "     nfev: 1\n",
       "     njev: 1\n",
       " hess_inv: <3x3 LbfgsInvHessProduct with dtype=float64>"
      ]
     },
     "execution_count": 18,
     "metadata": {},
     "output_type": "execute_result"
    }
   ],
   "execution_count": 18
  },
  {
   "metadata": {
    "ExecuteTime": {
     "end_time": "2025-04-29T09:42:24.380679Z",
     "start_time": "2025-04-29T09:42:24.378538Z"
    }
   },
   "cell_type": "code",
   "source": [
    "z_opt = res.x\n",
    "y_opt = np.zeros(6)\n",
    "y_opt[J] = z_opt / np.nonzero(eigvals > 1e-10)[0]\n",
    "print(y_opt)\n",
    "\n",
    "x_opt = S @ y_opt\n",
    "print(x_opt)"
   ],
   "id": "69e51dda4542855b",
   "outputs": [
    {
     "name": "stdout",
     "output_type": "stream",
     "text": [
      "[ 0.00000000e+00  0.00000000e+00  0.00000000e+00  2.16402982e-05\n",
      "  1.60158558e-03 -2.28842648e-03]\n",
      "[ 0.00194851 -0.00035618  0.00139783  0.00013014  0.00136927 -0.00018203]\n"
     ]
    }
   ],
   "execution_count": 19
  },
  {
   "metadata": {
    "ExecuteTime": {
     "end_time": "2025-04-29T09:42:24.762773Z",
     "start_time": "2025-04-29T09:42:24.401791Z"
    }
   },
   "cell_type": "code",
   "source": [
    "# Вектор НУ, дающий максимальное отклонение:\n",
    "opt_initial_state_da = array.identity(6)\n",
    "opt_initial_state_da[0] += x_opt[0] + x0    # x\n",
    "opt_initial_state_da[1] += x_opt[1]         # y\n",
    "opt_initial_state_da[2] += x_opt[2] + z0    # z\n",
    "opt_initial_state_da[3] += x_opt[3]         # vx\n",
    "opt_initial_state_da[4] += x_opt[4] + vy0   # vy\n",
    "opt_initial_state_da[5] += x_opt[5]         # vz\n",
    "\n",
    "with DA.cache_manager():\n",
    "    r_f = RK78(opt_initial_state_da, 0.0, T, CR3BP).cons()[:3]\n",
    "\n",
    "r_0 = initial_state_cons[:3]\n",
    "\n",
    "print(\"Максимальное отклонение через виток, полуаналитика: \", du2km(np.linalg.norm(r_f - r_0)))"
   ],
   "id": "ce401f17d622e313",
   "outputs": [
    {
     "name": "stdout",
     "output_type": "stream",
     "text": [
      "Максимальное отклонение через виток, полуаналитика:  8504.118348068172\n"
     ]
    }
   ],
   "execution_count": 20
  },
  {
   "metadata": {
    "ExecuteTime": {
     "end_time": "2025-04-29T09:42:44.192871Z",
     "start_time": "2025-04-29T09:42:44.190524Z"
    }
   },
   "cell_type": "code",
   "source": [
    "print(std_pos)\n",
    "print(std_vel)\n",
    "print(bounds)\n",
    "print(x_opt)"
   ],
   "id": "c38fa6b30e9132c9",
   "outputs": [
    {
     "name": "stdout",
     "output_type": "stream",
     "text": [
      "2.0811383826953342e-05\n",
      "4.880238020495532e-05\n",
      "[(-6.243415148086002e-05, 6.243415148086002e-05), (-6.243415148086002e-05, 6.243415148086002e-05), (-6.243415148086002e-05, 6.243415148086002e-05), (-0.00014640714061486595, 0.00014640714061486595), (-0.00014640714061486595, 0.00014640714061486595), (-0.00014640714061486595, 0.00014640714061486595)]\n",
      "[ 0.00194851 -0.00035618  0.00139783  0.00013014  0.00136927 -0.00018203]\n"
     ]
    }
   ],
   "execution_count": 22
  },
  {
   "metadata": {
    "ExecuteTime": {
     "end_time": "2025-04-29T09:42:48.708703Z",
     "start_time": "2025-04-29T09:42:48.702449Z"
    }
   },
   "cell_type": "code",
   "source": [
    "from scipy.spatial import ConvexHull          # только чтобы отфильтровать лишнее\n",
    "\n",
    "def x_corners(std_pos, std_vel):\n",
    "    lows  = np.array([-3*std_pos]*3 + [-3*std_vel]*3)\n",
    "    highs = -lows\n",
    "    return np.array([np.where(mask, highs, lows)\n",
    "                     for mask in product([0, 1], repeat=6)])\n",
    "\n",
    "def z_vertices(S, D, std_pos, std_vel, eps=1e-12):\n",
    "    \"\"\"Вернёт массив уникальных вершин зонатопа W·X (всегда shape (N,3)).\"\"\"\n",
    "    W   = D @ S.T\n",
    "    Z64 = (W @ x_corners(std_pos, std_vel).T).T          # (64,3)\n",
    "    Z   = np.unique(np.round(Z64, 12), axis=0)           # убираем дубликаты\n",
    "\n",
    "    # --- определяем реально изменяющиеся координаты ------------------------\n",
    "    var   = Z.var(axis=0)\n",
    "    dims  = np.where(var > eps)[0]                       # столбцы, где есть разброс\n",
    "    k     = len(dims)                                    # фактическая размерность\n",
    "\n",
    "    if k == 0:                                           # все точки совпали\n",
    "        return Z[:1]\n",
    "\n",
    "    if k == 1:\n",
    "        d = dims[0]\n",
    "        idx_min = np.argmin(Z[:, d])\n",
    "        idx_max = np.argmax(Z[:, d])\n",
    "        return Z[[idx_min, idx_max]]\n",
    "\n",
    "    # k == 2  или 3: строим ВСУ оболочку в меньшей размерности\n",
    "    Z_proj = Z[:, dims]\n",
    "    hull   = ConvexHull(Z_proj) if len(Z) > k else None\n",
    "    verts  = Z[hull.vertices] if hull else Z\n",
    "    return verts\n",
    "\n",
    "\n",
    "V = z_vertices(S, D, std_pos, std_vel)\n",
    "print(f\"Количество вершин: {len(V)}\")\n",
    "print(V)"
   ],
   "id": "2c7fddb89a867424",
   "outputs": [
    {
     "name": "stdout",
     "output_type": "stream",
     "text": [
      "Количество вершин: 32\n",
      "[[ 0.00000000e+00  0.00000000e+00  0.00000000e+00 -6.49208950e-05\n",
      "  -1.96672880e-03  5.10334930e-03]\n",
      " [ 0.00000000e+00  0.00000000e+00  0.00000000e+00 -6.27417730e-05\n",
      "  -1.95143476e-03 -2.20787692e-03]\n",
      " [ 0.00000000e+00  0.00000000e+00  0.00000000e+00 -5.41062660e-05\n",
      "  -5.61597936e-03  5.35257006e-03]\n",
      " [-0.00000000e+00 -0.00000000e+00 -0.00000000e+00 -5.29031320e-05\n",
      "   1.90065621e-03 -1.61531089e-03]\n",
      " [ 0.00000000e+00  0.00000000e+00 -0.00000000e+00 -5.24898470e-05\n",
      "  -2.74179771e-03 -4.61556722e-03]\n",
      " [ 0.00000000e+00  0.00000000e+00  0.00000000e+00 -5.19271450e-05\n",
      "  -5.60068532e-03 -1.95865615e-03]\n",
      " [-0.00000000e+00 -0.00000000e+00 -0.00000000e+00 -5.07240110e-05\n",
      "   1.91595025e-03 -8.92653711e-03]\n",
      " [ 0.00000000e+00  0.00000000e+00 -0.00000000e+00 -4.38543400e-05\n",
      "  -6.40634231e-03  2.94487976e-03]\n",
      " [ 0.00000000e+00  0.00000000e+00  0.00000000e+00 -4.16752190e-05\n",
      "  -6.39104827e-03 -4.36634645e-03]\n",
      " [ 0.00000000e+00 -0.00000000e+00 -0.00000000e+00 -4.04720840e-05\n",
      "   1.12558731e-03 -1.13342274e-02]\n",
      " [ 0.00000000e+00 -0.00000000e+00 -0.00000000e+00 -2.96574560e-05\n",
      "  -2.52366326e-03 -1.10850066e-02]\n",
      " [ 0.00000000e+00  0.00000000e+00  0.00000000e+00 -1.65994420e-05\n",
      "   1.52178697e-03  1.11929117e-02]\n",
      " [ 0.00000000e+00 -0.00000000e+00  0.00000000e+00 -5.78481400e-06\n",
      "  -2.12746359e-03  1.14421324e-02]\n",
      " [ 0.00000000e+00 -0.00000000e+00 -0.00000000e+00 -4.58167900e-06\n",
      "   5.38917199e-03  4.47425146e-03]\n",
      " [-0.00000000e+00 -0.00000000e+00 -0.00000000e+00 -4.46711300e-06\n",
      "   2.91782653e-03 -9.03444212e-03]\n",
      " [ 0.00000000e+00 -0.00000000e+00  0.00000000e+00 -2.40255800e-06\n",
      "   5.40446603e-03 -2.83697475e-03]\n",
      " [-0.00000000e+00  0.00000000e+00 -0.00000000e+00  2.40255800e-06\n",
      "  -5.40446603e-03  2.83697475e-03]\n",
      " [ 0.00000000e+00  0.00000000e+00  0.00000000e+00  4.46711300e-06\n",
      "  -2.91782653e-03  9.03444212e-03]\n",
      " [-0.00000000e+00  0.00000000e+00  0.00000000e+00  4.58167900e-06\n",
      "  -5.38917199e-03 -4.47425146e-03]\n",
      " [-0.00000000e+00  0.00000000e+00 -0.00000000e+00  5.78481400e-06\n",
      "   2.12746359e-03 -1.14421324e-02]\n",
      " [-0.00000000e+00 -0.00000000e+00 -0.00000000e+00  1.65994420e-05\n",
      "  -1.52178697e-03 -1.11929117e-02]\n",
      " [-0.00000000e+00  0.00000000e+00  0.00000000e+00  2.96574560e-05\n",
      "   2.52366326e-03  1.10850066e-02]\n",
      " [-0.00000000e+00  0.00000000e+00  0.00000000e+00  4.04720840e-05\n",
      "  -1.12558731e-03  1.13342274e-02]\n",
      " [-0.00000000e+00 -0.00000000e+00 -0.00000000e+00  4.16752190e-05\n",
      "   6.39104827e-03  4.36634645e-03]\n",
      " [-0.00000000e+00 -0.00000000e+00  0.00000000e+00  4.38543400e-05\n",
      "   6.40634231e-03 -2.94487976e-03]\n",
      " [ 0.00000000e+00  0.00000000e+00  0.00000000e+00  5.07240110e-05\n",
      "  -1.91595025e-03  8.92653711e-03]\n",
      " [-0.00000000e+00 -0.00000000e+00 -0.00000000e+00  5.19271450e-05\n",
      "   5.60068532e-03  1.95865615e-03]\n",
      " [-0.00000000e+00 -0.00000000e+00  0.00000000e+00  5.24898470e-05\n",
      "   2.74179771e-03  4.61556722e-03]\n",
      " [ 0.00000000e+00  0.00000000e+00  0.00000000e+00  5.29031320e-05\n",
      "  -1.90065621e-03  1.61531089e-03]\n",
      " [-0.00000000e+00 -0.00000000e+00 -0.00000000e+00  5.41062660e-05\n",
      "   5.61597936e-03 -5.35257006e-03]\n",
      " [-0.00000000e+00 -0.00000000e+00 -0.00000000e+00  6.27417730e-05\n",
      "   1.95143476e-03  2.20787692e-03]\n",
      " [-0.00000000e+00 -0.00000000e+00 -0.00000000e+00  6.49208950e-05\n",
      "   1.96672880e-03 -5.10334930e-03]]\n"
     ]
    }
   ],
   "execution_count": 23
  },
  {
   "metadata": {
    "ExecuteTime": {
     "end_time": "2025-04-29T09:42:52.954510Z",
     "start_time": "2025-04-29T09:42:52.952626Z"
    }
   },
   "cell_type": "code",
   "source": [
    "max_vert_val = -9e16\n",
    "max_vert = None\n",
    "for vertice in V:\n",
    "    temp = vertice.T @ vertice\n",
    "    if temp > max_vert_val:\n",
    "        max_vert_val = temp\n",
    "        max_vert = vertice\n",
    "\n",
    "print(max_vert)"
   ],
   "id": "36dc4ba97d2c1c6d",
   "outputs": [
    {
     "name": "stdout",
     "output_type": "stream",
     "text": [
      "[ 0.00000000e+00 -0.00000000e+00  0.00000000e+00 -5.78481400e-06\n",
      " -2.12746359e-03  1.14421324e-02]\n"
     ]
    }
   ],
   "execution_count": 24
  },
  {
   "metadata": {
    "ExecuteTime": {
     "end_time": "2025-04-29T09:42:56.880121Z",
     "start_time": "2025-04-29T09:42:56.875750Z"
    }
   },
   "cell_type": "code",
   "source": [
    "from scipy.linalg import null_space   # pinv = псевдообратная Мура-Пенроуза\n",
    "\n",
    "from numpy.linalg import pinv          # ← берём из NumPy, у него всегда rcond\n",
    "\n",
    "\n",
    "def x_from_z(z, S, D, return_nullspace=False, rtol=1e-12):\n",
    "    \"\"\"\n",
    "    Возвращает:\n",
    "      x_star          – минимальное по норме решение W x = z\n",
    "      (опц.) N_basis  – базис ядра W, если нужен полный набор решений\n",
    "    \"\"\"\n",
    "    W = D @ S.T                 # (3,6) – фактически ненулевые строки\n",
    "    W_pinv = pinv(W, rcond=1e-14)\n",
    "    x_star = W_pinv @ z         # минимальная норма\n",
    "\n",
    "    if return_nullspace:\n",
    "        N = null_space(W, rcond=rtol)   # (6,3) – столбцы образуют базис\n",
    "        return x_star, N\n",
    "\n",
    "    return x_star\n",
    "\n",
    "x_opt = x_from_z(max_vert, S, D, return_nullspace=False)\n",
    "x_opt"
   ],
   "id": "d3aaf6ffc601dddf",
   "outputs": [
    {
     "data": {
      "text/plain": [
       "array([-1.42341756e-04,  4.22434064e-05, -4.83407331e-05, -1.52681353e-05,\n",
       "       -8.15784523e-05,  2.01973622e-05])"
      ]
     },
     "execution_count": 26,
     "metadata": {},
     "output_type": "execute_result"
    }
   ],
   "execution_count": 26
  },
  {
   "metadata": {
    "ExecuteTime": {
     "end_time": "2025-04-29T09:43:03.570473Z",
     "start_time": "2025-04-29T09:43:03.232275Z"
    }
   },
   "cell_type": "code",
   "source": [
    "# Вектор НУ, дающий максимальное отклонение:\n",
    "opt_initial_state_da = array.identity(6)\n",
    "opt_initial_state_da[0] += x_opt[0] + x0    # x\n",
    "opt_initial_state_da[1] += x_opt[1]         # y\n",
    "opt_initial_state_da[2] += x_opt[2] + z0    # z\n",
    "opt_initial_state_da[3] += x_opt[3]         # vx\n",
    "opt_initial_state_da[4] += x_opt[4] + vy0   # vy\n",
    "opt_initial_state_da[5] += x_opt[5]         # vz\n",
    "\n",
    "with DA.cache_manager():\n",
    "    r_f = RK78(opt_initial_state_da, 0.0, T, CR3BP).cons()[:3]\n",
    "\n",
    "r_0 = initial_state_cons[:3]\n",
    "\n",
    "print(\"Максимальное отклонение через виток, полуаналитика: \", du2km(np.linalg.norm(r_f - r_0)))"
   ],
   "id": "1be7e5c39806f5b5",
   "outputs": [
    {
     "name": "stdout",
     "output_type": "stream",
     "text": [
      "Максимальное отклонение через виток, полуаналитика:  546.1322542171926\n"
     ]
    }
   ],
   "execution_count": 27
  },
  {
   "metadata": {
    "ExecuteTime": {
     "end_time": "2025-04-29T09:43:08.673031Z",
     "start_time": "2025-04-29T09:43:08.669514Z"
    }
   },
   "cell_type": "code",
   "source": [
    "def in_bounds(x, std_pos, std_vel, atol=1e-12, verbose=True):\n",
    "    \"\"\"\n",
    "    Проверяет x ∈ [-3σ_pos, 3σ_pos]^3 × [-3σ_vel, 3σ_vel]^3.\n",
    "\n",
    "    Параметры\n",
    "    ---------\n",
    "    x        : np.ndarray shape (6,) — проверяемый вектор\n",
    "    std_pos  : float — σ для координат позиций (первые три)\n",
    "    std_vel  : float — σ для координат скоростей (последние три)\n",
    "    atol     : float — допускаемая погрешность (|x|-граница)\n",
    "    verbose  : bool  — печатать подробности\n",
    "\n",
    "    Возвращает\n",
    "    ----------\n",
    "    ok : bool — True, если все компоненты удовлетворяют ограничениям\n",
    "    \"\"\"\n",
    "    lower = np.array([-3*std_pos]*3 + [-3*std_vel]*3)\n",
    "    upper = -lower                                           # симметрично\n",
    "\n",
    "    below_lower = x < lower - atol\n",
    "    above_upper = x > upper + atol\n",
    "    ok = not (below_lower | above_upper).any()\n",
    "\n",
    "    if verbose:\n",
    "        if ok:\n",
    "            print(\"✓ x_opt удовлетворяет всем ограничениям.\")\n",
    "        else:\n",
    "            bad_idx = np.where(below_lower | above_upper)[0]\n",
    "            for i in bad_idx:\n",
    "                print(f\"× компонентa {i}: {x[i]:.6g} \"\n",
    "                      f\"вне [{lower[i]:.6g}, {upper[i]:.6g}]\")\n",
    "    return ok\n",
    "\n",
    "in_bounds(x_opt, std_pos, std_vel)"
   ],
   "id": "5c94ff124714c6e0",
   "outputs": [
    {
     "name": "stdout",
     "output_type": "stream",
     "text": [
      "× компонентa 0: -0.000142342 вне [-6.24342e-05, 6.24342e-05]\n"
     ]
    },
    {
     "data": {
      "text/plain": [
       "False"
      ]
     },
     "execution_count": 29,
     "metadata": {},
     "output_type": "execute_result"
    }
   ],
   "execution_count": 29
  },
  {
   "metadata": {},
   "cell_type": "code",
   "outputs": [],
   "execution_count": null,
   "source": "",
   "id": "c02e142848a86c5c"
  }
 ],
 "metadata": {
  "kernelspec": {
   "display_name": "Python 3",
   "language": "python",
   "name": "python3"
  },
  "language_info": {
   "codemirror_mode": {
    "name": "ipython",
    "version": 2
   },
   "file_extension": ".py",
   "mimetype": "text/x-python",
   "name": "python",
   "nbconvert_exporter": "python",
   "pygments_lexer": "ipython2",
   "version": "2.7.6"
  }
 },
 "nbformat": 4,
 "nbformat_minor": 5
}
