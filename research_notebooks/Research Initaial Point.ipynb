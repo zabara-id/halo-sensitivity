{
 "cells": [
  {
   "cell_type": "markdown",
   "metadata": {},
   "source": [
    "# Исследование по выбору начальной точки для оценки отклонения через виток"
   ]
  },
  {
   "cell_type": "markdown",
   "metadata": {},
   "source": [
    "Посмотрим, как выбор начальной точки на орбите влияет на максимальное отклонение через период."
   ]
  },
  {
   "cell_type": "code",
   "execution_count": 1,
   "metadata": {},
   "outputs": [],
   "source": [
    "import numpy as np\n",
    "from daceypy import array, DA\n",
    "from utils.libration_sense import (initial_state_parser,\n",
    "                                   CR3BP,\n",
    "                                   RK78_trajectory,\n",
    "                                   get_maxdeviation_initial_state,\n",
    "                                   km2du,\n",
    "                                   du2km,\n",
    "                                   kmS2vu,\n",
    "                                   get_maxdeviation_and_delta_from_initial_state,\n",
    "                                   MU)\n",
    "import matplotlib.pyplot as plt\n",
    "from mpl_toolkits.mplot3d import Axes3D"
   ]
  },
  {
   "cell_type": "code",
   "execution_count": 13,
   "metadata": {},
   "outputs": [
    {
     "data": {
      "text/plain": [
       "(66, 6)"
      ]
     },
     "execution_count": 13,
     "metadata": {},
     "output_type": "execute_result"
    }
   ],
   "source": [
    "orbit_type = 'L1'\n",
    "orbit_num = 192\n",
    "\n",
    "DA.init(3, 6)\n",
    "x0, z0, vy0, T, _, __ = initial_state_parser(orbit_type, orbit_num)\n",
    "initial_state = array.identity(6)\n",
    "initial_state[0] += x0  # x\n",
    "initial_state[2] += z0  # z\n",
    "initial_state[4] += vy0  # v_y\n",
    "\n",
    "number_of_turns = 1\n",
    "\n",
    "\n",
    "trajectory_dots = RK78_trajectory(initial_state, 0.0, number_of_turns * T, CR3BP)\n",
    "\n",
    "np.shape(trajectory_dots)"
   ]
  },
  {
   "cell_type": "code",
   "execution_count": 14,
   "metadata": {},
   "outputs": [],
   "source": [
    "np.random.seed(42)\n",
    "std_pos = km2du(8)\n",
    "std_vel = kmS2vu(0.05e-3)"
   ]
  },
  {
   "cell_type": "code",
   "execution_count": 15,
   "metadata": {},
   "outputs": [
    {
     "name": "stdout",
     "output_type": "stream",
     "text": [
      "8675.493196733853\n",
      "[ 2.91624180e-06  5.00832224e-05  5.32742236e-05 -1.89306886e-05\n",
      "  7.22079630e-05 -5.41292864e-05]\n",
      "[-8.77776021e-06 -2.80212987e-06 -3.46803674e-07 -1.71273292e-05\n",
      "  1.15107766e-05  5.61966800e-05]\n"
     ]
    }
   ],
   "source": [
    "init_dot = trajectory_dots[33]\n",
    "init_state = array.identity(6)\n",
    "init_state[0] += init_dot[0]  # x\n",
    "init_state[1] += init_dot[1]  # y\n",
    "init_state[2] += init_dot[2]  # z\n",
    "init_state[3] += init_dot[3]  # vx\n",
    "init_state[4] += init_dot[4]  # vy\n",
    "init_state[5] += init_dot[5]  # vz\n",
    "\n",
    "peri_bad_maxdev, peri_bad_delta_max, peri_bad_delta_min = get_maxdeviation_and_delta_from_initial_state(init_state,\n",
    "                                                                                                        T,\n",
    "                                                                                                        std_pos,\n",
    "                                                                                                        std_vel,\n",
    "                                                                                                        number_of_points=10000)\n",
    "print(du2km(peri_bad_maxdev))\n",
    "print(peri_bad_delta_max)\n",
    "print(peri_bad_delta_min)"
   ]
  },
  {
   "cell_type": "code",
   "execution_count": 16,
   "metadata": {},
   "outputs": [
    {
     "data": {
      "text/plain": [
       "(69, 6)"
      ]
     },
     "execution_count": 16,
     "metadata": {},
     "output_type": "execute_result"
    }
   ],
   "source": [
    "# Плохая перицентральная траектория\n",
    "init_dot_bad = trajectory_dots[33]\n",
    "init_state_bad = array.identity(6)\n",
    "init_state_bad[0] += init_dot_bad[0] + peri_bad_delta_max[0]  # x\n",
    "init_state_bad[1] += init_dot_bad[1] + peri_bad_delta_max[1]  # y\n",
    "init_state_bad[2] += init_dot_bad[2] + peri_bad_delta_max[2] # z\n",
    "init_state_bad[3] += init_dot_bad[3] + peri_bad_delta_max[3] # vx\n",
    "init_state_bad[4] += init_dot_bad[4] + peri_bad_delta_max[4] # vy\n",
    "init_state_bad[5] += init_dot_bad[5] + peri_bad_delta_max[5] # vz\n",
    "\n",
    "trajectory_dots_bad = RK78_trajectory(init_state_bad, 0.0, number_of_turns * T, CR3BP)\n",
    "trajectory_dots_bad.shape"
   ]
  },
  {
   "cell_type": "code",
   "execution_count": 18,
   "metadata": {},
   "outputs": [
    {
     "data": {
      "text/plain": [
       "(65, 6)"
      ]
     },
     "execution_count": 18,
     "metadata": {},
     "output_type": "execute_result"
    }
   ],
   "source": [
    "# Хорошая перицентральная траектория\n",
    "init_dot_good = trajectory_dots[33]\n",
    "init_state_good = array.identity(6)\n",
    "init_state_good[0] += init_dot_good[0] + peri_bad_delta_min[0]  # x\n",
    "init_state_good[1] += init_dot_good[1] + peri_bad_delta_min[1]  # y\n",
    "init_state_good[2] += init_dot_good[2] + peri_bad_delta_min[2] # z\n",
    "init_state_good[3] += init_dot_good[3] + peri_bad_delta_min[3] # vx\n",
    "init_state_good[4] += init_dot_good[4] + peri_bad_delta_min[4] # vy\n",
    "init_state_good[5] += init_dot_good[5] + peri_bad_delta_min[5] # vz\n",
    "\n",
    "trajectory_dots_good = RK78_trajectory(init_state_good, 0.0, number_of_turns * T, CR3BP)\n",
    "trajectory_dots_good.shape"
   ]
  },
  {
   "cell_type": "code",
   "execution_count": 19,
   "metadata": {},
   "outputs": [],
   "source": [
    "def plot_trajectory(dots: tuple[np.ndarray]) -> None:\n",
    "    # Создаем фигуру и оси один раз перед циклом\n",
    "    fig = plt.figure(figsize=(10, 8))\n",
    "    ax = fig.add_subplot(111, projection='3d')\n",
    "    \n",
    "    # Добавляем Землю и Луну (один раз)\n",
    "    earth_pos = np.array([-MU, 0, 0])\n",
    "    moon_pos = np.array([1 - MU, 0, 0])\n",
    "    ax.scatter(earth_pos[0], earth_pos[1], earth_pos[2], color='blue', s=200, label='Earth')\n",
    "    ax.scatter(moon_pos[0], moon_pos[1], moon_pos[2], color='gray', s=50, label='Moon')\n",
    "    \n",
    "    for i, trajectory_dots in enumerate(dots):\n",
    "        x = trajectory_dots[:, 0]\n",
    "        y = trajectory_dots[:, 1]\n",
    "        z = trajectory_dots[:, 2]\n",
    "        \n",
    "        # Рисуем траекторию с меткой\n",
    "        ax.plot(x, y, z, label=f'Trajectory {i+1}', lw=1.5)\n",
    "        ax.scatter(x, y, z, color='gray', s=10)\n",
    "        \n",
    "        # Добавляем номера точек (опционально)\n",
    "        for j in range(len(x)):\n",
    "            ax.text(x[j], y[j], z[j], str(j+1), fontsize=8)\n",
    "    \n",
    "    # Настраиваем оси и легенду один раз после цикла\n",
    "    ax.set_xlabel('X')\n",
    "    ax.set_ylabel('Y')\n",
    "    ax.set_zlabel('Z')\n",
    "    ax.legend()\n",
    "    ax.set_title('Trajectories graph')\n",
    "    \n",
    "    plt.show()"
   ]
  },
  {
   "cell_type": "code",
   "execution_count": null,
   "metadata": {},
   "outputs": [
    {
     "name": "stderr",
     "output_type": "stream",
     "text": [
      "2025-04-12 16:07:08.127 Python[39811:15269874] _TIPropertyValueIsValid called with 16 on nil context!\n",
      "2025-04-12 16:07:08.127 Python[39811:15269874] imkxpc_getApplicationProperty:reply: called with incorrect property value 16, bailing.\n",
      "2025-04-12 16:07:08.127 Python[39811:15269874] Text input context does not respond to _valueForTIProperty:\n"
     ]
    }
   ],
   "source": [
    "%matplotlib qt\n",
    "all_trajectories = [trajectory_dots_bad]\n",
    "plot_trajectory(all_trajectories)"
   ]
  },
  {
   "cell_type": "code",
   "execution_count": 18,
   "metadata": {},
   "outputs": [
    {
     "ename": "KeyboardInterrupt",
     "evalue": "",
     "output_type": "error",
     "traceback": [
      "\u001b[0;31m---------------------------------------------------------------------------\u001b[0m",
      "\u001b[0;31mKeyboardInterrupt\u001b[0m                         Traceback (most recent call last)",
      "Cell \u001b[0;32mIn[18], line 10\u001b[0m\n\u001b[1;32m      8\u001b[0m init_state[\u001b[38;5;241m4\u001b[39m] \u001b[38;5;241m+\u001b[39m\u001b[38;5;241m=\u001b[39m init_dot[\u001b[38;5;241m4\u001b[39m]  \u001b[38;5;66;03m# vy\u001b[39;00m\n\u001b[1;32m      9\u001b[0m init_state[\u001b[38;5;241m5\u001b[39m] \u001b[38;5;241m+\u001b[39m\u001b[38;5;241m=\u001b[39m init_dot[\u001b[38;5;241m5\u001b[39m]  \u001b[38;5;66;03m# vz\u001b[39;00m\n\u001b[0;32m---> 10\u001b[0m deviation \u001b[38;5;241m=\u001b[39m  \u001b[43mget_maxdeviation_initial_state\u001b[49m\u001b[43m(\u001b[49m\u001b[43minit_state\u001b[49m\u001b[43m,\u001b[49m\u001b[43m \u001b[49m\u001b[43mT\u001b[49m\u001b[43m,\u001b[49m\u001b[43m \u001b[49m\u001b[43mstd_pos\u001b[49m\u001b[43m,\u001b[49m\u001b[43m \u001b[49m\u001b[43mstd_vel\u001b[49m\u001b[43m,\u001b[49m\u001b[43m \u001b[49m\u001b[43mnumber_of_points\u001b[49m\u001b[38;5;241;43m=\u001b[39;49m\u001b[38;5;241;43m10000\u001b[39;49m\u001b[43m)\u001b[49m\n\u001b[1;32m     11\u001b[0m deviations_list\u001b[38;5;241m.\u001b[39mappend(deviation)\n",
      "File \u001b[0;32m~/VSCodeProjects/circumlunarSensitivity/utils/libration_sense.py:629\u001b[0m, in \u001b[0;36mget_maxdeviation_initial_state\u001b[0;34m(initial_state, T, std_pos, std_vel, derorder, number_of_turns, number_of_points)\u001b[0m\n\u001b[1;32m    626\u001b[0m x0_cons \u001b[38;5;241m=\u001b[39m initial_state\u001b[38;5;241m.\u001b[39mcons()  \u001b[38;5;66;03m# координаты центральной точки (начальные условия)\u001b[39;00m\n\u001b[1;32m    627\u001b[0m x0_coords \u001b[38;5;241m=\u001b[39m x0_cons[:\u001b[38;5;241m3\u001b[39m]  \u001b[38;5;66;03m# только положения\u001b[39;00m\n\u001b[0;32m--> 629\u001b[0m evaluated_results \u001b[38;5;241m=\u001b[39m np\u001b[38;5;241m.\u001b[39marray([\u001b[43mxf\u001b[49m\u001b[38;5;241;43m.\u001b[39;49m\u001b[43meval\u001b[49m\u001b[43m(\u001b[49m\u001b[43mdelta\u001b[49m\u001b[43m)\u001b[49m[:\u001b[38;5;241m3\u001b[39m] \u001b[38;5;28;01mfor\u001b[39;00m delta \u001b[38;5;129;01min\u001b[39;00m deltax0]) \u001b[38;5;66;03m# изменённые конечные положения объектов для возмущённых начальных условий\u001b[39;00m\n\u001b[1;32m    631\u001b[0m \u001b[38;5;66;03m# Евклидовы расстояния от каждой точки в evaluated_results до x0_coords\u001b[39;00m\n\u001b[1;32m    632\u001b[0m distances \u001b[38;5;241m=\u001b[39m np\u001b[38;5;241m.\u001b[39msqrt(np\u001b[38;5;241m.\u001b[39msum((evaluated_results \u001b[38;5;241m-\u001b[39m x0_coords) \u001b[38;5;241m*\u001b[39m\u001b[38;5;241m*\u001b[39m \u001b[38;5;241m2\u001b[39m, axis\u001b[38;5;241m=\u001b[39m\u001b[38;5;241m1\u001b[39m))\n",
      "File \u001b[0;32m~/VSCodeProjects/circumlunarSensitivity/env/lib/python3.12/site-packages/daceypy/_array.py:881\u001b[0m, in \u001b[0;36marray.eval\u001b[0;34m(self, args)\u001b[0m\n\u001b[1;32m    876\u001b[0m \u001b[38;5;28;01mdef\u001b[39;00m \u001b[38;5;21meval\u001b[39m(\n\u001b[1;32m    877\u001b[0m     \u001b[38;5;28mself\u001b[39m,\n\u001b[1;32m    878\u001b[0m     args: Union[\n\u001b[1;32m    879\u001b[0m         List[\u001b[38;5;28mfloat\u001b[39m], List[daceypy\u001b[38;5;241m.\u001b[39mDA], NDArray[np\u001b[38;5;241m.\u001b[39mdouble], array],\n\u001b[1;32m    880\u001b[0m ) \u001b[38;5;241m-\u001b[39m\u001b[38;5;241m>\u001b[39m Union[List[\u001b[38;5;28mfloat\u001b[39m], List[daceypy\u001b[38;5;241m.\u001b[39mDA], NDArray[np\u001b[38;5;241m.\u001b[39mdouble], array]:\n\u001b[0;32m--> 881\u001b[0m     \u001b[38;5;28;01mreturn\u001b[39;00m \u001b[38;5;28;43mself\u001b[39;49m\u001b[38;5;241;43m.\u001b[39;49m\u001b[43mcompile\u001b[49m\u001b[43m(\u001b[49m\u001b[43m)\u001b[49m\u001b[38;5;241;43m.\u001b[39;49m\u001b[43meval\u001b[49m\u001b[43m(\u001b[49m\u001b[43margs\u001b[49m\u001b[43m)\u001b[49m\n",
      "File \u001b[0;32m~/VSCodeProjects/circumlunarSensitivity/env/lib/python3.12/site-packages/daceypy/_compiledDA.py:225\u001b[0m, in \u001b[0;36mcompiledDA.eval\u001b[0;34m(self, args)\u001b[0m\n\u001b[1;32m    223\u001b[0m         \u001b[38;5;28;01mfor\u001b[39;00m j \u001b[38;5;129;01min\u001b[39;00m \u001b[38;5;28mrange\u001b[39m(\u001b[38;5;28mself\u001b[39m\u001b[38;5;241m.\u001b[39mdim):\n\u001b[1;32m    224\u001b[0m             res[j] \u001b[38;5;241m+\u001b[39m\u001b[38;5;241m=\u001b[39m xm[jl] \u001b[38;5;241m*\u001b[39m \u001b[38;5;28mself\u001b[39m\u001b[38;5;241m.\u001b[39mac[p]\n\u001b[0;32m--> 225\u001b[0m             p \u001b[38;5;241m+\u001b[39m\u001b[38;5;241m=\u001b[39m \u001b[38;5;241m1\u001b[39m\n\u001b[1;32m    226\u001b[0m \u001b[38;5;28;01melse\u001b[39;00m:\n\u001b[1;32m    227\u001b[0m     jlskip \u001b[38;5;241m=\u001b[39m \u001b[38;5;28mself\u001b[39m\u001b[38;5;241m.\u001b[39mord \u001b[38;5;241m+\u001b[39m \u001b[38;5;241m1\u001b[39m\n",
      "\u001b[0;31mKeyboardInterrupt\u001b[0m: "
     ]
    }
   ],
   "source": [
    "deviations_list = []\n",
    "for init_dot in trajectory_dots:\n",
    "    init_state = array.identity(6)\n",
    "    init_state[0] += init_dot[0]  # x\n",
    "    init_state[1] += init_dot[1]  # y\n",
    "    init_state[2] += init_dot[2]  # z\n",
    "    init_state[3] += init_dot[3]  # vx\n",
    "    init_state[4] += init_dot[4]  # vy\n",
    "    init_state[5] += init_dot[5]  # vz\n",
    "    deviation =  get_maxdeviation_initial_state(init_state, T, std_pos, std_vel, number_of_points=10000)\n",
    "    deviations_list.append(deviation)"
   ]
  },
  {
   "cell_type": "code",
   "execution_count": 51,
   "metadata": {},
   "outputs": [],
   "source": [
    "plt.scatter(range(len(deviations_list)), [du2km(dev) for dev in deviations_list])\n",
    "plt.xlabel(\"Orbit point (initial state) [-]\")\n",
    "plt.ylabel(\"Max deviation [km]\")\n",
    "plt.grid(True)\n",
    "plt.minorticks_on()\n",
    "plt.show()"
   ]
  },
  {
   "cell_type": "code",
   "execution_count": null,
   "metadata": {},
   "outputs": [],
   "source": [
    "%matplotlib qt\n",
    "x = trajectory_dots[:, 0]\n",
    "y = trajectory_dots[:, 1]\n",
    "z = trajectory_dots[:, 2]\n",
    "\n",
    "earth_pos = np.array([-MU, 0, 0])\n",
    "moon_pos = np.array([1 - MU, 0, 0])\n",
    "\n",
    "fig = plt.figure(figsize=(10, 8))\n",
    "ax = fig.add_subplot(111, projection='3d')\n",
    "ax.plot(x, y, z, label='Trajectory', lw=1.5)\n",
    "ax.scatter(x, y, z, color='gray', s=10)\n",
    "\n",
    "for i in range(len(x)):\n",
    "    ax.text(x[i], y[i], z[i], str(i+1), fontsize=8)\n",
    "\n",
    "ax.scatter(earth_pos[0], earth_pos[1], earth_pos[2], color='blue', s=200, label='Earth')\n",
    "ax.scatter(moon_pos[0], moon_pos[1], moon_pos[2], color='gray', s=50, label='Moon')\n",
    "\n",
    "ax.set_xlabel('X')\n",
    "ax.set_ylabel('Y')\n",
    "ax.set_zlabel('Z')\n",
    "ax.legend()\n",
    "ax.set_title('Initial Points graph')\n",
    "\n",
    "plt.show()"
   ]
  },
  {
   "cell_type": "code",
   "execution_count": null,
   "metadata": {},
   "outputs": [],
   "source": []
  }
 ],
 "metadata": {
  "kernelspec": {
   "display_name": "env",
   "language": "python",
   "name": "python3"
  },
  "language_info": {
   "codemirror_mode": {
    "name": "ipython",
    "version": 3
   },
   "file_extension": ".py",
   "mimetype": "text/x-python",
   "name": "python",
   "nbconvert_exporter": "python",
   "pygments_lexer": "ipython3",
   "version": "3.12.4"
  }
 },
 "nbformat": 4,
 "nbformat_minor": 2
}
