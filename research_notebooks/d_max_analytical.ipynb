{
 "cells": [
  {
   "cell_type": "markdown",
   "id": "96317f21",
   "metadata": {},
   "source": [
    "## Вывод полуаналитических зависимостей для метрики $d_{\\text{max}}$ (изохронное отклонение)"
   ]
  },
  {
   "cell_type": "markdown",
   "id": "fa696073",
   "metadata": {},
   "source": [
    "Вид линий уровня для графика $r_{min}(\\sigma_{pos}, \\sigma_{vel})$ поддатлкивает на мысль о том, что зависимость должна быть такой:\n",
    "$$\n",
    "r_{min} = \\sqrt[n]{\\alpha_1\\cdot\\sigma_{pos}^n+\\alpha_2\\cdot\\sigma_{vel}^n}\n",
    "$$\n",
    "\n",
    "Для нахождения коэффициентов $\\alpha = (\\alpha_1, \\alpha_2)$ воспользуемся формулой функционала для линейной регресии:\n",
    "$$\n",
    "J_2 = \\dfrac{1}{N}\\sum_{i=1}^n(r_{min}^n-\\alpha_1\\cdot\\sigma_{pos}^n-\\alpha_2\\cdot\\sigma_{vel}^n)^2 \\longrightarrow \\min_{\\alpha_1, \\alpha_2}\n",
    "$$\n",
    "\n",
    "Для такого функционала есть ответ. Если переписать его ядро в матричном виде, то по формуле Маркова-Гаусса:\n",
    "$$\n",
    "\\boxed{\\alpha^*=(A^TA)^{-1}A^Ty} = \\alpha^*(n)\n",
    "$$"
   ]
  },
  {
   "cell_type": "code",
   "execution_count": 1,
   "id": "8e216adb",
   "metadata": {},
   "outputs": [],
   "source": [
    "from IPython.display import display, Math\n",
    "\n",
    "import numpy as np\n",
    "\n",
    "from utils.libration_sense import get_xf, km2du, kmS2vu, du2km, get_maxdeviation_wo_integrate\n",
    "from utils.formula_creators import n_finder, n_finder_performed, alpha_finder_of_n"
   ]
  },
  {
   "cell_type": "code",
   "execution_count": 2,
   "id": "a94219e8",
   "metadata": {},
   "outputs": [],
   "source": [
    "orbit_type = \"L1\"\n",
    "orbit_number = 92"
   ]
  },
  {
   "cell_type": "code",
   "execution_count": 3,
   "id": "e8729112",
   "metadata": {},
   "outputs": [
    {
     "ename": "FileNotFoundError",
     "evalue": "[Errno 2] No such file or directory: '/Users/i.zabara/VSCodeProjects/halo-sensitivity/utils/../data/input/qualified_ic_halo/HOPhaseVectorsEarthMoonL1_qualified.csv'",
     "output_type": "error",
     "traceback": [
      "\u001b[31m---------------------------------------------------------------------------\u001b[39m",
      "\u001b[31mFileNotFoundError\u001b[39m                         Traceback (most recent call last)",
      "\u001b[36mCell\u001b[39m\u001b[36m \u001b[39m\u001b[32mIn[3]\u001b[39m\u001b[32m, line 2\u001b[39m\n\u001b[32m      1\u001b[39m \u001b[38;5;66;03m# ищем все параметры для формулы\u001b[39;00m\n\u001b[32m----> \u001b[39m\u001b[32m2\u001b[39m xfinal = \u001b[43mget_xf\u001b[49m\u001b[43m(\u001b[49m\u001b[43morbit_type\u001b[49m\u001b[43m,\u001b[49m\u001b[43m \u001b[49m\u001b[43morbit_number\u001b[49m\u001b[43m)\u001b[49m\n\u001b[32m      3\u001b[39m n, A_normed, y_du = n_finder(orbit_type, orbit_number, xfinal, grid_density=\u001b[32m20\u001b[39m, seed=\u001b[32m42\u001b[39m, reuse_noise=\u001b[38;5;28;01mTrue\u001b[39;00m, amount_of_points=\u001b[32m5_000\u001b[39m)\n\u001b[32m      4\u001b[39m alpha, deviation_max = alpha_finder_of_n(A_normed, y_du, n)\n",
      "\u001b[36mFile \u001b[39m\u001b[32m~/VSCodeProjects/halo-sensitivity/utils/libration_sense.py:547\u001b[39m, in \u001b[36mget_xf\u001b[39m\u001b[34m(orbit_type, number_of_orbit, derorder, number_of_turns, number_of_halo_point)\u001b[39m\n\u001b[32m    544\u001b[39m DA.init(derorder, \u001b[32m6\u001b[39m)\n\u001b[32m    546\u001b[39m \u001b[38;5;28;01mif\u001b[39;00m \u001b[38;5;129;01mnot\u001b[39;00m number_of_halo_point:\n\u001b[32m--> \u001b[39m\u001b[32m547\u001b[39m     x0, z0, vy0, T, JACOBI, MAX_MUL = \u001b[43minitial_state_parser\u001b[49m\u001b[43m(\u001b[49m\u001b[43morbit_type\u001b[49m\u001b[43m,\u001b[49m\u001b[43m \u001b[49m\u001b[43mnumber_of_orbit\u001b[49m\u001b[43m)\u001b[49m\n\u001b[32m    548\u001b[39m     initial_state = array.identity(\u001b[32m6\u001b[39m)\n\u001b[32m    549\u001b[39m     initial_state[\u001b[32m0\u001b[39m] += x0  \u001b[38;5;66;03m# x\u001b[39;00m\n",
      "\u001b[36mFile \u001b[39m\u001b[32m~/VSCodeProjects/halo-sensitivity/utils/libration_sense.py:54\u001b[39m, in \u001b[36minitial_state_parser\u001b[39m\u001b[34m(orbit_type, number_of_orbit)\u001b[39m\n\u001b[32m     50\u001b[39m     \u001b[38;5;28;01mraise\u001b[39;00m \u001b[38;5;167;01mValueError\u001b[39;00m(\u001b[33mf\u001b[39m\u001b[33m\"\u001b[39m\u001b[33mIncorrect orbit number. The range (1, \u001b[39m\u001b[38;5;132;01m{\u001b[39;00mORBIT_TYPES_NUMS[orbit_type]\u001b[38;5;132;01m}\u001b[39;00m\u001b[33m) is available for \u001b[39m\u001b[38;5;132;01m{\u001b[39;00morbit_type\u001b[38;5;132;01m}\u001b[39;00m\u001b[33m.\u001b[39m\u001b[33m\"\u001b[39m)\n\u001b[32m     52\u001b[39m file_path = os.path.join(os.path.dirname(\u001b[34m__file__\u001b[39m), \u001b[33m'\u001b[39m\u001b[33m..\u001b[39m\u001b[33m'\u001b[39m, \u001b[33m'\u001b[39m\u001b[33mdata\u001b[39m\u001b[33m'\u001b[39m, \u001b[33m'\u001b[39m\u001b[33minput\u001b[39m\u001b[33m'\u001b[39m, \u001b[33m'\u001b[39m\u001b[33mqualified_ic_halo\u001b[39m\u001b[33m'\u001b[39m, \u001b[33mf\u001b[39m\u001b[33m'\u001b[39m\u001b[33mHOPhaseVectorsEarthMoon\u001b[39m\u001b[38;5;132;01m{\u001b[39;00morbit_type\u001b[38;5;132;01m}\u001b[39;00m\u001b[33m_qualified.csv\u001b[39m\u001b[33m'\u001b[39m)\n\u001b[32m---> \u001b[39m\u001b[32m54\u001b[39m \u001b[38;5;28;01mwith\u001b[39;00m \u001b[38;5;28;43mopen\u001b[39;49m\u001b[43m(\u001b[49m\u001b[43mfile_path\u001b[49m\u001b[43m,\u001b[49m\u001b[43m \u001b[49m\u001b[43mnewline\u001b[49m\u001b[43m=\u001b[49m\u001b[33;43m'\u001b[39;49m\u001b[33;43m'\u001b[39;49m\u001b[43m)\u001b[49m \u001b[38;5;28;01mas\u001b[39;00m csvfile:\n\u001b[32m     55\u001b[39m     reader = csv.reader(csvfile)\n\u001b[32m     56\u001b[39m     rows = \u001b[38;5;28mlist\u001b[39m(reader)\n",
      "\u001b[31mFileNotFoundError\u001b[39m: [Errno 2] No such file or directory: '/Users/i.zabara/VSCodeProjects/halo-sensitivity/utils/../data/input/qualified_ic_halo/HOPhaseVectorsEarthMoonL1_qualified.csv'"
     ]
    }
   ],
   "source": [
    "# ищем все параметры для формулы\n",
    "xfinal = get_xf(orbit_type, orbit_number)\n",
    "n, A_normed, y_du = n_finder(orbit_type, orbit_number, xfinal, grid_density=20, seed=42, reuse_noise=True, amount_of_points=5_000)\n",
    "alpha, deviation_max = alpha_finder_of_n(A_normed, y_du, n)\n",
    "\n",
    "print('Степень n = ', n, sep='')\n",
    "print(\"alpha1, alpha2 = \", alpha)"
   ]
  },
  {
   "cell_type": "code",
   "execution_count": null,
   "id": "966b723d",
   "metadata": {},
   "outputs": [
    {
     "name": "stdout",
     "output_type": "stream",
     "text": [
      "Степень n = 2.3454377366389974\n",
      "alpha1, alpha2 =  [0.61144315 0.34603848]\n",
      "deviation max =  14375.505142388189\n"
     ]
    }
   ],
   "source": [
    "# ищем все параметры для формулы с помощью оптимизированной процедуры\n",
    "xfinal = get_xf(orbit_type, orbit_number)\n",
    "n_perf, A_normed, y_du = n_finder_performed(orbit_type, orbit_number, xfinal, grid_density=20, seed=42, reuse_noise=True, amount_of_points=5_000)\n",
    "alpha, deviation_max = alpha_finder_of_n(A_normed, y_du, n_perf)\n",
    "\n",
    "print('Степень n = ', n_perf, sep='')\n",
    "print(\"alpha1, alpha2 = \", alpha)\n",
    "print(\"deviation max = \", du2km(deviation_max))"
   ]
  },
  {
   "cell_type": "code",
   "execution_count": null,
   "id": "37fea96c",
   "metadata": {},
   "outputs": [],
   "source": [
    "n = n_perf\n",
    "def deviation_analytic(n, alpha, std_pos_normed, std_vel_normed):\n",
    "    return np.power(alpha[0]*np.power(std_pos_normed, n) + alpha[1]*np.power(std_vel_normed, n), 1/n)\n",
    "\n",
    "\n",
    "formula = f\"d = \\\\sqrt[{np.around(n, 4)}]{{{np.around(alpha[0], 2)}\\\\cdot \\\\sigma_{{pos}}^{{{np.around(n, 4)}}} + {np.around(alpha[1], 2)}\\\\cdot \\\\sigma_{{vel}}^{{{np.around(n, 4)}}}}}\\\\cdot{np.around(du2km(deviation_max), 3)} \\\\ [km]\"\n",
    "\n",
    "std_pos, std_vel = km2du(2.4), kmS2vu(0.01e-3)\n",
    "std_pos_max, std_vel_max = km2du(8), kmS2vu(0.05e-3)\n",
    "\n",
    "print(f\"Пробная точка: [sigma_pos = {4} км, sigma_vel = {0.03} м/с]\")\n",
    "print(f\"Крайние значения данных: [sigma_pos_max = {8} км, sigma_vel_max = {0.05} м/с]\")\n",
    "print('Точное значение: ', du2km(get_maxdeviation_wo_integrate(orbit_type, orbit_number, xfinal, std_pos, std_vel, amount_of_points=5000, seed = 42)))\n",
    "print('Значение, вычисленное по аппроксимирующей формуле: ', deviation_analytic(n, alpha, std_pos/std_pos_max, std_vel/std_vel_max) * du2km(deviation_max))"
   ]
  },
  {
   "cell_type": "code",
   "execution_count": null,
   "id": "d8b88078",
   "metadata": {},
   "outputs": [],
   "source": [
    "formula = f\"d = \\\\sqrt[{np.around(n, 4)}]{{{np.around(alpha[0], 2)}\\\\cdot \\\\sigma_{{pos}}^{{{np.around(2, 4)}}} + {np.around(alpha[1], 2)}\\\\cdot \\\\sigma_{{vel}}^{{{np.around(n, 4)}}}}}\\\\cdot{np.around(du2km(deviation_max), 3)} \\\\ [km]\"\n",
    "display(Math(formula))"
   ]
  },
  {
   "cell_type": "markdown",
   "id": "3f0a238c",
   "metadata": {},
   "source": []
  }
 ],
 "metadata": {
  "kernelspec": {
   "display_name": "halo-sensitivity",
   "language": "python",
   "name": "python3"
  },
  "language_info": {
   "codemirror_mode": {
    "name": "ipython",
    "version": 3
   },
   "file_extension": ".py",
   "mimetype": "text/x-python",
   "name": "python",
   "nbconvert_exporter": "python",
   "pygments_lexer": "ipython3",
   "version": "3.13.0"
  }
 },
 "nbformat": 4,
 "nbformat_minor": 5
}
