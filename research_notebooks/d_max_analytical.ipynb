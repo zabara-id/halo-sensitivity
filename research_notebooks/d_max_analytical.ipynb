{
 "cells": [
  {
   "cell_type": "markdown",
   "id": "96317f21",
   "metadata": {},
   "source": [
    "## Вывод полуаналитических зависимостей для метрики $d_{\\text{max}}$ (изохронное отклонение)"
   ]
  },
  {
   "cell_type": "markdown",
   "id": "fa696073",
   "metadata": {},
   "source": [
    "Вид линий уровня для графика $r_{min}(\\sigma_{pos}, \\sigma_{vel})$ поддатлкивает на мысль о том, что зависимость должна быть такой:\n",
    "$$\n",
    "r_{min} = \\sqrt[n]{\\alpha_1\\cdot\\sigma_{pos}^n+\\alpha_2\\cdot\\sigma_{vel}^n}\n",
    "$$\n",
    "\n",
    "Для нахождения коэффициентов $\\alpha = (\\alpha_1, \\alpha_2)$ воспользуемся формулой функционала для линейной регресии:\n",
    "$$\n",
    "J_2 = \\dfrac{1}{N}\\sum_{i=1}^n(r_{min}^n-\\alpha_1\\cdot\\sigma_{pos}^n-\\alpha_2\\cdot\\sigma_{vel}^n)^2 \\longrightarrow \\min_{\\alpha_1, \\alpha_2}\n",
    "$$\n",
    "\n",
    "Для такого функционала есть ответ. Если переписать его ядро в матричном виде, то по формуле Маркова-Гаусса:\n",
    "$$\n",
    "\\boxed{\\alpha^*=(A^TA)^{-1}A^Ty} = \\alpha^*(n)\n",
    "$$"
   ]
  },
  {
   "cell_type": "code",
   "execution_count": 1,
   "id": "5397af4f",
   "metadata": {},
   "outputs": [],
   "source": [
    "import numpy as np"
   ]
  },
  {
   "cell_type": "code",
   "execution_count": 2,
   "id": "8e216adb",
   "metadata": {},
   "outputs": [],
   "source": [
    "from utils.libration_sense import get_xf, km2du, kmS2vu, du2km, get_maxdeviation_wo_integrate\n",
    "from utils.formula_creators import n_finder, alpha_finder_of_n"
   ]
  },
  {
   "cell_type": "code",
   "execution_count": 3,
   "id": "a94219e8",
   "metadata": {},
   "outputs": [],
   "source": [
    "orbit_type = \"L1\"\n",
    "orbit_number = 192"
   ]
  },
  {
   "cell_type": "code",
   "execution_count": null,
   "id": "e8729112",
   "metadata": {},
   "outputs": [
    {
     "name": "stderr",
     "output_type": "stream",
     "text": [
      "progress: 100%|██████████| 1600/1600 [16:58<00:00,  1.57it/s]"
     ]
    },
    {
     "name": "stdout",
     "output_type": "stream",
     "text": [
      "Степень n = 2.217977546021809\n",
      "alpha1, alpha2 =  [0.16411655 0.83937246]\n"
     ]
    },
    {
     "name": "stderr",
     "output_type": "stream",
     "text": [
      "\n"
     ]
    }
   ],
   "source": [
    "from IPython.display import display, Math\n",
    "\n",
    "# ищем все параметры для формулы\n",
    "xfinal = get_xf(orbit_type, orbit_number)\n",
    "n, A_normed, y_du = n_finder(orbit_type, orbit_number, xfinal, grid_density=40, seed=42, amount_of_points=10_000)\n",
    "alpha, deviation_max = alpha_finder_of_n(A_normed, y_du, n)\n",
    "\n",
    "print('Степень n = ', n, sep='')\n",
    "print(\"alpha1, alpha2 = \", alpha)"
   ]
  },
  {
   "cell_type": "code",
   "execution_count": 4,
   "id": "37fea96c",
   "metadata": {},
   "outputs": [
    {
     "name": "stdout",
     "output_type": "stream",
     "text": [
      "Пробная точка: [sigma_pos = 4 км, sigma_vel = 0.03 м/с]\n",
      "Крайние значения данных: [sigma_pos_max = 8 км, sigma_vel_max = 0.05 м/с]\n",
      "Точное значение:  51.08379666989129\n",
      "Значение, вычисленное по аппроксимирующей формуле:  49.25081572483868\n"
     ]
    }
   ],
   "source": [
    "def deviation_analytic(n, alpha, std_pos_normed, std_vel_normed):\n",
    "    return np.power(alpha[0]*np.power(std_pos_normed, n) + alpha[1]*np.power(std_vel_normed, n), 1/n)\n",
    "\n",
    "\n",
    "formula = f\"d = \\\\sqrt[{np.around(n, 4)}]{{{np.around(alpha[0], 2)}\\\\cdot \\\\sigma_{{pos}}^{{{np.around(n, 4)}}} + {np.around(alpha[1], 2)}\\\\cdot \\\\sigma_{{vel}}^{{{np.around(n, 4)}}}}}\\\\cdot{np.around(du2km(deviation_max), 3)} \\\\ [km]\"\n",
    "\n",
    "std_pos, std_vel = km2du(0.4), kmS2vu(0.005e-3)\n",
    "std_pos_max, std_vel_max = km2du(1), kmS2vu(0.01e-3)\n",
    "\n",
    "print(f\"Пробная точка: [sigma_pos = {4} км, sigma_vel = {0.03} м/с]\")\n",
    "print(f\"Крайние значения данных: [sigma_pos_max = {8} км, sigma_vel_max = {0.05} м/с]\")\n",
    "print('Точное значение: ', du2km(get_maxdeviation_wo_integrate('L2', 290, xfinal, std_pos, std_vel, amount_of_points=15000)))\n",
    "print('Значение, вычисленное по аппроксимирующей формуле: ', deviation_analytic(2, alpha, std_pos/std_pos_max, std_vel/std_vel_max) * du2km(deviation_max))"
   ]
  },
  {
   "cell_type": "markdown",
   "id": "3f0a238c",
   "metadata": {},
   "source": []
  }
 ],
 "metadata": {
  "kernelspec": {
   "display_name": "halo-sensitivity (3.13.7)",
   "language": "python",
   "name": "python3"
  },
  "language_info": {
   "codemirror_mode": {
    "name": "ipython",
    "version": 3
   },
   "file_extension": ".py",
   "mimetype": "text/x-python",
   "name": "python",
   "nbconvert_exporter": "python",
   "pygments_lexer": "ipython3",
   "version": "3.13.7"
  }
 },
 "nbformat": 4,
 "nbformat_minor": 5
}
