{
 "cells": [
  {
   "cell_type": "markdown",
   "id": "96317f21",
   "metadata": {},
   "source": [
    "## Вывод полуаналитических зависимостей для метрики $d_{\\text{max}}$ (изохронное отклонение)"
   ]
  },
  {
   "cell_type": "markdown",
   "id": "fa696073",
   "metadata": {},
   "source": [
    "Вид линий уровня для графика $r_{min}(\\sigma_{pos}, \\sigma_{vel})$ поддатлкивает на мысль о том, что зависимость должна быть такой:\n",
    "$$\n",
    "r_{min} = \\sqrt[n]{\\alpha_1\\cdot\\sigma_{pos}^n+\\alpha_2\\cdot\\sigma_{vel}^n}\n",
    "$$\n",
    "\n",
    "Для нахождения коэффициентов $\\alpha = (\\alpha_1, \\alpha_2)$ воспользуемся формулой функционала для линейной регресии:\n",
    "$$\n",
    "J_2 = \\dfrac{1}{N}\\sum_{i=1}^n(r_{min}^n-\\alpha_1\\cdot\\sigma_{pos}^n-\\alpha_2\\cdot\\sigma_{vel}^n)^2 \\longrightarrow \\min_{\\alpha_1, \\alpha_2}\n",
    "$$\n",
    "\n",
    "Для такого функционала есть ответ. Если переписать его ядро в матричном виде, то по формуле Маркова-Гаусса:\n",
    "$$\n",
    "\\boxed{\\alpha^*=(A^TA)^{-1}A^Ty} = \\alpha^*(n)\n",
    "$$"
   ]
  },
  {
   "cell_type": "code",
   "execution_count": 3,
   "id": "8e216adb",
   "metadata": {},
   "outputs": [],
   "source": [
    "from utils.libration_sense import get_xf\n",
    "from utils.formula_creators import n_finder, alpha_finder_of_n"
   ]
  },
  {
   "cell_type": "markdown",
   "id": "a5f0ea08",
   "metadata": {},
   "source": []
  },
  {
   "cell_type": "code",
   "execution_count": 2,
   "id": "e8729112",
   "metadata": {},
   "outputs": [
    {
     "name": "stdout",
     "output_type": "stream",
     "text": [
      "IS:  daceypy.array\n",
      "T:  <class 'numpy.float64'>\n",
      "Степень n = 1.7867894670541278\n"
     ]
    }
   ],
   "source": [
    "from IPython.display import display, Math\n",
    "\n",
    "xfinal = get_xf(\"L2\", 290)\n",
    "\n",
    "n, A_normed, y_du = n_finder(\"L2\", 290, xfinal, grid_density=10)\n",
    "print('Степень n = ', n, sep='')\n",
    "alpha, deviation_max = alpha_finder_of_n(A_normed, y_du, n)"
   ]
  },
  {
   "cell_type": "markdown",
   "id": "3f0a238c",
   "metadata": {},
   "source": []
  }
 ],
 "metadata": {
  "kernelspec": {
   "display_name": "halo-sensitivity (3.13.7)",
   "language": "python",
   "name": "python3"
  },
  "language_info": {
   "codemirror_mode": {
    "name": "ipython",
    "version": 3
   },
   "file_extension": ".py",
   "mimetype": "text/x-python",
   "name": "python",
   "nbconvert_exporter": "python",
   "pygments_lexer": "ipython3",
   "version": "3.13.7"
  }
 },
 "nbformat": 4,
 "nbformat_minor": 5
}
