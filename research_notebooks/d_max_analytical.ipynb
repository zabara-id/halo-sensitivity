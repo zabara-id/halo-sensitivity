{
 "cells": [
  {
   "cell_type": "markdown",
   "id": "96317f21",
   "metadata": {},
   "source": [
    "## Вывод полуаналитических зависимостей для метрики $d_{\\text{max}}$ (изохронное отклонение)"
   ]
  },
  {
   "cell_type": "markdown",
   "id": "fa696073",
   "metadata": {},
   "source": [
    "Вид линий уровня для графика $r_{min}(\\sigma_{pos}, \\sigma_{vel})$ поддатлкивает на мысль о том, что зависимость должна быть такой:\n",
    "$$\n",
    "r_{min} = \\sqrt[n]{\\alpha_1\\cdot\\sigma_{pos}^n+\\alpha_2\\cdot\\sigma_{vel}^n}\n",
    "$$\n",
    "\n",
    "Для нахождения коэффициентов $\\alpha = (\\alpha_1, \\alpha_2)$ воспользуемся формулой функционала для линейной регресии:\n",
    "$$\n",
    "J_2 = \\dfrac{1}{N}\\sum_{i=1}^n(r_{min}^n-\\alpha_1\\cdot\\sigma_{pos}^n-\\alpha_2\\cdot\\sigma_{vel}^n)^2 \\longrightarrow \\min_{\\alpha_1, \\alpha_2}\n",
    "$$\n",
    "\n",
    "Для такого функционала есть ответ. Если переписать его ядро в матричном виде, то по формуле Маркова-Гаусса:\n",
    "$$\n",
    "\\boxed{\\alpha^*=(A^TA)^{-1}A^Ty} = \\alpha^*(n)\n",
    "$$"
   ]
  },
  {
   "cell_type": "code",
   "execution_count": 1,
   "id": "8e216adb",
   "metadata": {},
   "outputs": [
    {
     "name": "stderr",
     "output_type": "stream",
     "text": [
      "/Users/zabarailya/VSCodeProjects/halo-sensitivity/utils/libration_sense.py:886: SyntaxWarning: invalid escape sequence '\\i'\n",
      "  Идея: для возмущения x \\in R^6, целевая функция — || F(x) ||, где\n",
      "/Users/zabarailya/VSCodeProjects/halo-sensitivity/utils/libration_sense.py:886: SyntaxWarning: invalid escape sequence '\\i'\n",
      "  Идея: для возмущения x \\in R^6, целевая функция — || F(x) ||, где\n"
     ]
    },
    {
     "ename": "KeyboardInterrupt",
     "evalue": "",
     "output_type": "error",
     "traceback": [
      "\u001b[31m---------------------------------------------------------------------------\u001b[39m",
      "\u001b[31mKeyboardInterrupt\u001b[39m                         Traceback (most recent call last)",
      "\u001b[36mCell\u001b[39m\u001b[36m \u001b[39m\u001b[32mIn[1]\u001b[39m\u001b[32m, line 5\u001b[39m\n\u001b[32m      1\u001b[39m \u001b[38;5;28;01mfrom\u001b[39;00m\u001b[38;5;250m \u001b[39m\u001b[34;01mIPython\u001b[39;00m\u001b[34;01m.\u001b[39;00m\u001b[34;01mdisplay\u001b[39;00m\u001b[38;5;250m \u001b[39m\u001b[38;5;28;01mimport\u001b[39;00m display, Math\n\u001b[32m      3\u001b[39m \u001b[38;5;28;01mimport\u001b[39;00m\u001b[38;5;250m \u001b[39m\u001b[34;01mnumpy\u001b[39;00m\u001b[38;5;250m \u001b[39m\u001b[38;5;28;01mas\u001b[39;00m\u001b[38;5;250m \u001b[39m\u001b[34;01mnp\u001b[39;00m\n\u001b[32m----> \u001b[39m\u001b[32m5\u001b[39m \u001b[38;5;28;01mfrom\u001b[39;00m\u001b[38;5;250m \u001b[39m\u001b[34;01mutils\u001b[39;00m\u001b[34;01m.\u001b[39;00m\u001b[34;01mlibration_sense\u001b[39;00m\u001b[38;5;250m \u001b[39m\u001b[38;5;28;01mimport\u001b[39;00m get_xf, km2du, kmS2vu, du2km, get_maxdeviation_wo_integrate\n\u001b[32m      6\u001b[39m \u001b[38;5;28;01mfrom\u001b[39;00m\u001b[38;5;250m \u001b[39m\u001b[34;01mutils\u001b[39;00m\u001b[34;01m.\u001b[39;00m\u001b[34;01mformula_creators\u001b[39;00m\u001b[38;5;250m \u001b[39m\u001b[38;5;28;01mimport\u001b[39;00m n_finder, n_finder_performed, alpha_finder_of_n\n",
      "\u001b[36mFile \u001b[39m\u001b[32m~/VSCodeProjects/halo-sensitivity/utils/libration_sense.py:9\u001b[39m\n\u001b[32m      7\u001b[39m \u001b[38;5;28;01mfrom\u001b[39;00m\u001b[38;5;250m \u001b[39m\u001b[34;01mtyping\u001b[39;00m\u001b[38;5;250m \u001b[39m\u001b[38;5;28;01mimport\u001b[39;00m Callable\n\u001b[32m      8\u001b[39m \u001b[38;5;28;01mfrom\u001b[39;00m\u001b[38;5;250m \u001b[39m\u001b[34;01mscipy\u001b[39;00m\u001b[34;01m.\u001b[39;00m\u001b[34;01moptimize\u001b[39;00m\u001b[38;5;250m \u001b[39m\u001b[38;5;28;01mimport\u001b[39;00m minimize\n\u001b[32m----> \u001b[39m\u001b[32m9\u001b[39m \u001b[38;5;28;01mfrom\u001b[39;00m\u001b[38;5;250m \u001b[39m\u001b[34;01mscipy\u001b[39;00m\u001b[34;01m.\u001b[39;00m\u001b[34;01mstats\u001b[39;00m\u001b[38;5;250m \u001b[39m\u001b[38;5;28;01mimport\u001b[39;00m chi2\n\u001b[32m     10\u001b[39m \u001b[38;5;28;01mfrom\u001b[39;00m\u001b[38;5;250m \u001b[39m\u001b[34;01mscipy\u001b[39;00m\u001b[34;01m.\u001b[39;00m\u001b[34;01mintegrate\u001b[39;00m\u001b[38;5;250m \u001b[39m\u001b[38;5;28;01mimport\u001b[39;00m solve_ivp\n\u001b[32m     13\u001b[39m ORBIT_TYPES_NUMS = {\u001b[33m'\u001b[39m\u001b[33mL1\u001b[39m\u001b[33m'\u001b[39m : \u001b[32m251\u001b[39m,\n\u001b[32m     14\u001b[39m                     \u001b[33m'\u001b[39m\u001b[33mL2\u001b[39m\u001b[33m'\u001b[39m : \u001b[32m583\u001b[39m}\n",
      "\u001b[36mFile \u001b[39m\u001b[32m~/VSCodeProjects/halo-sensitivity/.venv/lib/python3.13/site-packages/scipy/stats/__init__.py:626\u001b[39m\n\u001b[32m      1\u001b[39m \u001b[33;03m\"\"\"\u001b[39;00m\n\u001b[32m      2\u001b[39m \u001b[33;03m.. _statsrefmanual:\u001b[39;00m\n\u001b[32m      3\u001b[39m \n\u001b[32m   (...)\u001b[39m\u001b[32m    621\u001b[39m \n\u001b[32m    622\u001b[39m \u001b[33;03m\"\"\"\u001b[39;00m  \u001b[38;5;66;03m# noqa: E501\u001b[39;00m\n\u001b[32m    624\u001b[39m \u001b[38;5;28;01mfrom\u001b[39;00m\u001b[38;5;250m \u001b[39m\u001b[34;01m.\u001b[39;00m\u001b[34;01m_warnings_errors\u001b[39;00m\u001b[38;5;250m \u001b[39m\u001b[38;5;28;01mimport\u001b[39;00m (ConstantInputWarning, NearConstantInputWarning,\n\u001b[32m    625\u001b[39m                                DegenerateDataWarning, FitError)\n\u001b[32m--> \u001b[39m\u001b[32m626\u001b[39m \u001b[38;5;28;01mfrom\u001b[39;00m\u001b[38;5;250m \u001b[39m\u001b[34;01m.\u001b[39;00m\u001b[34;01m_stats_py\u001b[39;00m\u001b[38;5;250m \u001b[39m\u001b[38;5;28;01mimport\u001b[39;00m *\n\u001b[32m    627\u001b[39m \u001b[38;5;28;01mfrom\u001b[39;00m\u001b[38;5;250m \u001b[39m\u001b[34;01m.\u001b[39;00m\u001b[34;01m_variation\u001b[39;00m\u001b[38;5;250m \u001b[39m\u001b[38;5;28;01mimport\u001b[39;00m variation\n\u001b[32m    628\u001b[39m \u001b[38;5;28;01mfrom\u001b[39;00m\u001b[38;5;250m \u001b[39m\u001b[34;01m.\u001b[39;00m\u001b[34;01mdistributions\u001b[39;00m\u001b[38;5;250m \u001b[39m\u001b[38;5;28;01mimport\u001b[39;00m *\n",
      "\u001b[36mFile \u001b[39m\u001b[32m~/VSCodeProjects/halo-sensitivity/.venv/lib/python3.13/site-packages/scipy/stats/_stats_py.py:52\u001b[39m\n\u001b[32m     49\u001b[39m \u001b[38;5;66;03m# Import unused here but needs to stay until end of deprecation periode\u001b[39;00m\n\u001b[32m     50\u001b[39m \u001b[38;5;66;03m# See https://github.com/scipy/scipy/issues/15765#issuecomment-1875564522\u001b[39;00m\n\u001b[32m     51\u001b[39m \u001b[38;5;28;01mfrom\u001b[39;00m\u001b[38;5;250m \u001b[39m\u001b[34;01mscipy\u001b[39;00m\u001b[38;5;250m \u001b[39m\u001b[38;5;28;01mimport\u001b[39;00m linalg  \u001b[38;5;66;03m# noqa: F401\u001b[39;00m\n\u001b[32m---> \u001b[39m\u001b[32m52\u001b[39m \u001b[38;5;28;01mfrom\u001b[39;00m\u001b[38;5;250m \u001b[39m\u001b[34;01m.\u001b[39;00m\u001b[38;5;250m \u001b[39m\u001b[38;5;28;01mimport\u001b[39;00m distributions\n\u001b[32m     53\u001b[39m \u001b[38;5;28;01mfrom\u001b[39;00m\u001b[38;5;250m \u001b[39m\u001b[34;01m.\u001b[39;00m\u001b[38;5;250m \u001b[39m\u001b[38;5;28;01mimport\u001b[39;00m _mstats_basic \u001b[38;5;28;01mas\u001b[39;00m mstats_basic\n\u001b[32m     55\u001b[39m \u001b[38;5;28;01mfrom\u001b[39;00m\u001b[38;5;250m \u001b[39m\u001b[34;01m.\u001b[39;00m\u001b[34;01m_stats_mstats_common\u001b[39;00m\u001b[38;5;250m \u001b[39m\u001b[38;5;28;01mimport\u001b[39;00m _find_repeats, theilslopes, siegelslopes\n",
      "\u001b[36mFile \u001b[39m\u001b[32m~/VSCodeProjects/halo-sensitivity/.venv/lib/python3.13/site-packages/scipy/stats/distributions.py:16\u001b[39m\n\u001b[32m     14\u001b[39m \u001b[38;5;28;01mfrom\u001b[39;00m\u001b[38;5;250m \u001b[39m\u001b[34;01m.\u001b[39;00m\u001b[34;01m_levy_stable\u001b[39;00m\u001b[38;5;250m \u001b[39m\u001b[38;5;28;01mimport\u001b[39;00m levy_stable\n\u001b[32m     15\u001b[39m \u001b[38;5;28;01mfrom\u001b[39;00m\u001b[38;5;250m \u001b[39m\u001b[34;01m.\u001b[39;00m\u001b[34;01m_discrete_distns\u001b[39;00m\u001b[38;5;250m \u001b[39m\u001b[38;5;28;01mimport\u001b[39;00m *  \u001b[38;5;66;03m# noqa: F403\u001b[39;00m\n\u001b[32m---> \u001b[39m\u001b[32m16\u001b[39m \u001b[38;5;28;01mfrom\u001b[39;00m\u001b[38;5;250m \u001b[39m\u001b[34;01m.\u001b[39;00m\u001b[34;01m_entropy\u001b[39;00m\u001b[38;5;250m \u001b[39m\u001b[38;5;28;01mimport\u001b[39;00m entropy\n\u001b[32m     18\u001b[39m \u001b[38;5;66;03m# For backwards compatibility e.g. pymc expects distributions.__all__.\u001b[39;00m\n\u001b[32m     19\u001b[39m __all__ = [\u001b[33m'\u001b[39m\u001b[33mrv_discrete\u001b[39m\u001b[33m'\u001b[39m, \u001b[33m'\u001b[39m\u001b[33mrv_continuous\u001b[39m\u001b[33m'\u001b[39m, \u001b[33m'\u001b[39m\u001b[33mrv_histogram\u001b[39m\u001b[33m'\u001b[39m, \u001b[33m'\u001b[39m\u001b[33mentropy\u001b[39m\u001b[33m'\u001b[39m]  \u001b[38;5;66;03m# noqa: F405\u001b[39;00m\n",
      "\u001b[36mFile \u001b[39m\u001b[32m~/VSCodeProjects/halo-sensitivity/.venv/lib/python3.13/site-packages/scipy/stats/_entropy.py:10\u001b[39m\n\u001b[32m      8\u001b[39m \u001b[38;5;28;01mimport\u001b[39;00m\u001b[38;5;250m \u001b[39m\u001b[34;01mnumpy\u001b[39;00m\u001b[38;5;250m \u001b[39m\u001b[38;5;28;01mas\u001b[39;00m\u001b[38;5;250m \u001b[39m\u001b[34;01mnp\u001b[39;00m\n\u001b[32m      9\u001b[39m \u001b[38;5;28;01mfrom\u001b[39;00m\u001b[38;5;250m \u001b[39m\u001b[34;01mscipy\u001b[39;00m\u001b[38;5;250m \u001b[39m\u001b[38;5;28;01mimport\u001b[39;00m special\n\u001b[32m---> \u001b[39m\u001b[32m10\u001b[39m \u001b[38;5;28;01mfrom\u001b[39;00m\u001b[38;5;250m \u001b[39m\u001b[34;01m.\u001b[39;00m\u001b[34;01m_axis_nan_policy\u001b[39;00m\u001b[38;5;250m \u001b[39m\u001b[38;5;28;01mimport\u001b[39;00m _axis_nan_policy_factory, _broadcast_arrays\n\u001b[32m     11\u001b[39m \u001b[38;5;28;01mfrom\u001b[39;00m\u001b[38;5;250m \u001b[39m\u001b[34;01mscipy\u001b[39;00m\u001b[34;01m.\u001b[39;00m\u001b[34;01m_lib\u001b[39;00m\u001b[34;01m.\u001b[39;00m\u001b[34;01m_array_api\u001b[39;00m\u001b[38;5;250m \u001b[39m\u001b[38;5;28;01mimport\u001b[39;00m array_namespace, xp_promote\n\u001b[32m     12\u001b[39m \u001b[38;5;28;01mfrom\u001b[39;00m\u001b[38;5;250m \u001b[39m\u001b[34;01mscipy\u001b[39;00m\u001b[34;01m.\u001b[39;00m\u001b[34;01m_lib\u001b[39;00m\u001b[38;5;250m \u001b[39m\u001b[38;5;28;01mimport\u001b[39;00m array_api_extra \u001b[38;5;28;01mas\u001b[39;00m xpx\n",
      "\u001b[31mKeyboardInterrupt\u001b[39m: "
     ]
    }
   ],
   "source": [
    "from IPython.display import display, Math\n",
    "\n",
    "import numpy as np\n",
    "\n",
    "from utils.libration_sense import get_xf, km2du, kmS2vu, du2km, get_maxdeviation_wo_integrate\n",
    "from utils.formula_creators import n_finder, n_finder_performed, alpha_finder_of_n"
   ]
  },
  {
   "cell_type": "code",
   "execution_count": null,
   "id": "a94219e8",
   "metadata": {},
   "outputs": [],
   "source": [
    "orbit_type = \"L1\"\n",
    "orbit_number = 192"
   ]
  },
  {
   "cell_type": "code",
   "execution_count": 3,
   "id": "e8729112",
   "metadata": {},
   "outputs": [
    {
     "name": "stderr",
     "output_type": "stream",
     "text": [
      "progress: 100%|██████████| 100/100 [02:06<00:00,  1.27s/it]"
     ]
    },
    {
     "name": "stdout",
     "output_type": "stream",
     "text": [
      "Степень n = 1.9708483863864164\n",
      "alpha1, alpha2 =  [0.19630286 0.80489284]\n"
     ]
    },
    {
     "name": "stderr",
     "output_type": "stream",
     "text": [
      "\n"
     ]
    }
   ],
   "source": [
    "# ищем все параметры для формулы\n",
    "xfinal = get_xf(orbit_type, orbit_number)\n",
    "n, A_normed, y_du = n_finder(\n",
    "    orbit_type, orbit_number,\n",
    "    xfinal,\n",
    "    grid_density=10,\n",
    "    seed=None,\n",
    "    reuse_noise=True,\n",
    "    amount_of_points=10_000)\n",
    "alpha, deviation_max = alpha_finder_of_n(A_normed, y_du, n)\n",
    "\n",
    "print('Степень n = ', n, sep='')\n",
    "print(\"alpha1, alpha2 = \", alpha)"
   ]
  },
  {
   "cell_type": "code",
   "execution_count": null,
   "id": "966b723d",
   "metadata": {},
   "outputs": [
    {
     "name": "stdout",
     "output_type": "stream",
     "text": [
      "Степень n = 2.3454377366389974\n",
      "alpha1, alpha2 =  [0.61144315 0.34603848]\n",
      "deviation max =  14375.505142388189\n"
     ]
    }
   ],
   "source": [
    "# # ищем все параметры для формулы с помощью оптимизированной процедуры\n",
    "# xfinal = get_xf(orbit_type, orbit_number)\n",
    "# n_perf, A_normed, y_du = n_finder_performed(orbit_type, orbit_number, xfinal, grid_density=20, seed=42, reuse_noise=True, amount_of_points=5_000)\n",
    "# alpha, deviation_max = alpha_finder_of_n(A_normed, y_du, n_perf)\n",
    "\n",
    "# print('Степень n = ', n_perf, sep='')\n",
    "# print(\"alpha1, alpha2 = \", alpha)\n",
    "# print(\"deviation max = \", du2km(deviation_max))"
   ]
  },
  {
   "cell_type": "code",
   "execution_count": null,
   "id": "37fea96c",
   "metadata": {},
   "outputs": [],
   "source": [
    "n = n_perf\n",
    "def deviation_analytic(n, alpha, std_pos_normed, std_vel_normed):\n",
    "    return np.power(alpha[0]*np.power(std_pos_normed, n) + alpha[1]*np.power(std_vel_normed, n), 1/n)\n",
    "\n",
    "\n",
    "formula = f\"d = \\\\sqrt[{np.around(n, 4)}]{{{np.around(alpha[0], 2)}\\\\cdot \\\\sigma_{{pos}}^{{{np.around(n, 4)}}} + {np.around(alpha[1], 2)}\\\\cdot \\\\sigma_{{vel}}^{{{np.around(n, 4)}}}}}\\\\cdot{np.around(du2km(deviation_max), 3)} \\\\ [km]\"\n",
    "\n",
    "std_pos, std_vel = km2du(2.4), kmS2vu(0.01e-3)\n",
    "std_pos_max, std_vel_max = km2du(8), kmS2vu(0.05e-3)\n",
    "\n",
    "print(f\"Пробная точка: [sigma_pos = {4} км, sigma_vel = {0.03} м/с]\")\n",
    "print(f\"Крайние значения данных: [sigma_pos_max = {8} км, sigma_vel_max = {0.05} м/с]\")\n",
    "print('Точное значение: ', du2km(get_maxdeviation_wo_integrate(orbit_type, orbit_number, xfinal, std_pos, std_vel, amount_of_points=5000, seed = 42)))\n",
    "print('Значение, вычисленное по аппроксимирующей формуле: ', deviation_analytic(n, alpha, std_pos/std_pos_max, std_vel/std_vel_max) * du2km(deviation_max))"
   ]
  },
  {
   "cell_type": "code",
   "execution_count": null,
   "id": "d8b88078",
   "metadata": {},
   "outputs": [],
   "source": [
    "formula = f\"d = \\\\sqrt[{np.around(n, 4)}]{{{np.around(alpha[0], 2)}\\\\cdot \\\\sigma_{{pos}}^{{{np.around(2, 4)}}} + {np.around(alpha[1], 2)}\\\\cdot \\\\sigma_{{vel}}^{{{np.around(n, 4)}}}}}\\\\cdot{np.around(du2km(deviation_max), 3)} \\\\ [km]\"\n",
    "display(Math(formula))"
   ]
  },
  {
   "cell_type": "markdown",
   "id": "3f0a238c",
   "metadata": {},
   "source": []
  }
 ],
 "metadata": {
  "kernelspec": {
   "display_name": "halo-sensitivity (3.13.7)",
   "language": "python",
   "name": "python3"
  },
  "language_info": {
   "codemirror_mode": {
    "name": "ipython",
    "version": 3
   },
   "file_extension": ".py",
   "mimetype": "text/x-python",
   "name": "python",
   "nbconvert_exporter": "python",
   "pygments_lexer": "ipython3",
   "version": "3.13.7"
  }
 },
 "nbformat": 4,
 "nbformat_minor": 5
}
